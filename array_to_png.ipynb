{
 "cells": [
  {
   "cell_type": "code",
   "execution_count": 5,
   "id": "a6b69474",
   "metadata": {},
   "outputs": [],
   "source": [
    "### plot q's, save as two png files\n",
    "import pandas as pd\n",
    "import numpy as np\n",
    "from numpy import load\n",
    "import matplotlib.pyplot as plt\n"
   ]
  },
  {
   "cell_type": "code",
   "execution_count": 2,
   "id": "3c304031",
   "metadata": {},
   "outputs": [],
   "source": [
    "### import data from csv (written in data_processing)\n",
    "q_array = load('q_array.npy')\n",
    "a_array = load('a_array.npy')\n",
    "\n",
    "### find number of trials\n",
    "data_trials = int(a_array.shape[0])\n",
    "t_steps = 100"
   ]
  },
  {
   "cell_type": "code",
   "execution_count": 3,
   "id": "40a8cf84",
   "metadata": {},
   "outputs": [
    {
     "data": {
      "text/plain": [
       "(20495, 16, 100)"
      ]
     },
     "execution_count": 3,
     "metadata": {},
     "output_type": "execute_result"
    }
   ],
   "source": [
    "q_array.shape"
   ]
  },
  {
   "cell_type": "code",
   "execution_count": null,
   "id": "15fec45d",
   "metadata": {},
   "outputs": [],
   "source": [
    "### plot each trial\n",
    "for i in range(data_trials):\n",
    "# for i in range(1):\n",
    "    x = [q_array[i][3][j] for j in range(t_steps)]\n",
    "    y = [q_array[i][7][j] for j in range(t_steps)]\n",
    "    z = [q_array[i][11][j] for j in range(t_steps)]\n",
    "\n",
    "#     fig0 = plt.figure()\n",
    "    ax0=plt.axes()\n",
    "    ax0.plot(x, y, color='black', linewidth=5)\n",
    "    ax0.set_xlim([-1,1.1])\n",
    "    ax0.set_ylim([-1,1])\n",
    "    ax0.get_xaxis().set_visible(False)\n",
    "    ax0.get_yaxis().set_visible(False)\n",
    "#     ax0.set_xlabel('x')\n",
    "#     ax0.set_ylabel('y')\n",
    "    filename = 'png_data/' + str(i) + '_xy.png'\n",
    "    plt.savefig(filename)\n",
    "    \n",
    "#     fig1 = plt.figure()\n",
    "    ax1=plt.axes()\n",
    "    ax1.plot(x, z, color='black', linewidth=5)\n",
    "    ax1.set_xlim([-1,1.1])\n",
    "    ax1.set_ylim([-1,1])\n",
    "    ax1.get_xaxis().set_visible(False)\n",
    "    ax1.get_yaxis().set_visible(False)\n",
    "#     ax1.set_xlabel('x')\n",
    "#     ax1.set_ylabel('z')\n",
    "    filename = 'png_data/' + str(i) + '_xz.png'\n",
    "    plt.savefig(filename)\n",
    "#     plt.show()\n",
    "#     plt.pause(1)\n"
   ]
  },
  {
   "cell_type": "code",
   "execution_count": null,
   "id": "f78bd942",
   "metadata": {},
   "outputs": [],
   "source": []
  }
 ],
 "metadata": {
  "kernelspec": {
   "display_name": "Python 3",
   "language": "python",
   "name": "python3"
  },
  "language_info": {
   "codemirror_mode": {
    "name": "ipython",
    "version": 3
   },
   "file_extension": ".py",
   "mimetype": "text/x-python",
   "name": "python",
   "nbconvert_exporter": "python",
   "pygments_lexer": "ipython3",
   "version": "3.8.5"
  }
 },
 "nbformat": 4,
 "nbformat_minor": 5
}
