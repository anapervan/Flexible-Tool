{
 "cells": [
  {
   "cell_type": "code",
   "execution_count": 1,
   "metadata": {},
   "outputs": [],
   "source": [
    "import numpy as np\n",
    "import sympy as sym\n",
    "from scipy.integrate import solve_bvp # solve boundary value problem\n",
    "from scipy.integrate import solve_ivp # solve initial value problem\n",
    "from scipy.optimize import minimize\n",
    "import math\n",
    "pi = math.pi\n",
    "%matplotlib inline \n",
    "import matplotlib.pyplot as plt\n",
    "from IPython.display import Image\n"
   ]
  },
  {
   "cell_type": "code",
   "execution_count": 2,
   "metadata": {},
   "outputs": [
    {
     "data": {
      "text/plain": [
       "(101,)"
      ]
     },
     "metadata": {},
     "output_type": "display_data"
    }
   ],
   "source": [
    "nt = 101\n",
    "time = np.linspace(0,1,nt)\n",
    "display(time.shape)\n"
   ]
  },
  {
   "cell_type": "code",
   "execution_count": 3,
   "metadata": {},
   "outputs": [
    {
     "data": {
      "text/plain": [
       "array([[1. ],\n",
       "       [0.5],\n",
       "       [0.5]])"
      ]
     },
     "metadata": {},
     "output_type": "display_data"
    },
    {
     "data": {
      "text/plain": [
       "(3, 101)"
      ]
     },
     "metadata": {},
     "output_type": "display_data"
    },
    {
     "data": {
      "text/plain": [
       "array([[1],\n",
       "       [0],\n",
       "       [0],\n",
       "       [0],\n",
       "       [0],\n",
       "       [1],\n",
       "       [0],\n",
       "       [0],\n",
       "       [0],\n",
       "       [0],\n",
       "       [1],\n",
       "       [0],\n",
       "       [0],\n",
       "       [0],\n",
       "       [0],\n",
       "       [1]])"
      ]
     },
     "metadata": {},
     "output_type": "display_data"
    },
    {
     "data": {
      "text/plain": [
       "(16, 101)"
      ]
     },
     "metadata": {},
     "output_type": "display_data"
    }
   ],
   "source": [
    "## initial conditions\n",
    "\n",
    "q0 = np.array([[1, 0, 0,0], \n",
    "    [0, 1, 0, 0],\n",
    "    [0, 0, 1, 0],\n",
    "    [0, 0, 0, 1]])\n",
    "u0 = np.array([[1.0], [0.5], [0.5]])\n",
    "display(u0)\n",
    "u_initials = u0*np.ones((3,101))\n",
    "display(u_initials.shape)\n",
    "\n",
    "## our initial conditions through the time line are the same. \n",
    "q0_flatten = q0.flatten()\n",
    "q0_flatten = np.reshape(q0_flatten, (16, 1))\n",
    "display(q0_flatten)\n",
    "q_initials = q0_flatten*np.ones((1, 101))\n",
    "display(q_initials.shape)"
   ]
  },
  {
   "cell_type": "code",
   "execution_count": 4,
   "metadata": {},
   "outputs": [
    {
     "data": {
      "text/plain": [
       "(19, 101)"
      ]
     },
     "metadata": {},
     "output_type": "display_data"
    }
   ],
   "source": [
    "## stack q and u initials for 101 time step into one matrix\n",
    "state_initials = np.vstack((q_initials, u_initials))\n",
    "display(state_initials.shape)"
   ]
  },
  {
   "cell_type": "code",
   "execution_count": 5,
   "metadata": {},
   "outputs": [],
   "source": [
    "from scipy.integrate import quad\n",
    "\n",
    "def integrand(state):\n",
    "    c1, c2,c3 = 0.5\n",
    "    u1 = state[17, :]\n",
    "    u2 = state[18, :]\n",
    "    u3 = state[19, :]\n",
    "    return c1*u1**2 + c2*u2**2 + c3*u3**2\n",
    "\n",
    "## develop objective function\n",
    "def objective(state):\n",
    "    c1, c2,c3 = 0.5\n",
    "    u1 = state[17, :]\n",
    "    u2 = state[18, :]\n",
    "    u3 = state[19, :]\n",
    "    min_target = quad(integrand, 0, 1)\n",
    "    \n",
    "    \n",
    "    return min_tatger\n",
    "\n"
   ]
  },
  {
   "cell_type": "code",
   "execution_count": 6,
   "metadata": {},
   "outputs": [],
   "source": [
    "def constraint1(t, q_initials, u_initials):\n",
    "    q11, q12, q13, q14, q21, q22, q23, q24, q31, q32, q33, q34, q41, q42, q43, q44 = q \n",
    "    u1, u2, u3 = u\n",
    "\n",
    "    dq11dt = u3*q12 - u2*q13\n",
    "    dq12dt  = -u3*q11 + u1*q13\n",
    "    dq13dt = u2*q11 - u1*q12\n",
    "    dq14dt = q11\n",
    "    dq21dt = u3*q22 - u2*q23\n",
    "    dq22dt = -u3*q21 + u1*q23\n",
    "    dq23dt = u2*q21 - u1*q22\n",
    "    dq24dt = q21\n",
    "    dq31dt = u3*q32 - u2*q33\n",
    "    dq32dt = -u3*q31 + u1*q33\n",
    "    dq33dt = u2*q31 - u1*q31\n",
    "    dq34dt = q31\n",
    "    dq41dt = u3*q42 - u2*q43\n",
    "    dq42dt = -u3*q41 + u1*q43\n",
    "    dq43dt = u2*q41 - u1*q42\n",
    "    dq44dt = q41\n",
    "\n",
    "    dqdt = [dq11dt, dq12dt, dq13dt, dq14dt, dq21dt, dq22dt, dq23dt, dq24dt, dq31dt, dq32dt, dq33dt, dq34dt, dq41dt, dq42dt, dq43dt, dq44dt]\n",
    "    return dqdt\n",
    "\n",
    "def constraint2(state_initials):\n",
    "    return state_initials\n",
    "\n",
    "def constraint3(state, b):\n",
    "    state[:, -1] = b\n",
    "    return state"
   ]
  },
  {
   "cell_type": "code",
   "execution_count": 7,
   "metadata": {},
   "outputs": [
    {
     "ename": "TypeError",
     "evalue": "constraint1() missing 2 required positional arguments: 'q_initials' and 'u_initials'",
     "output_type": "error",
     "traceback": [
      "\u001b[0;31m---------------------------------------------------------------------------\u001b[0m",
      "\u001b[0;31mTypeError\u001b[0m                                 Traceback (most recent call last)",
      "\u001b[0;32m<ipython-input-7-baaf48487bac>\u001b[0m in \u001b[0;36m<module>\u001b[0;34m\u001b[0m\n\u001b[1;32m      6\u001b[0m \u001b[0mcon3\u001b[0m \u001b[0;34m=\u001b[0m \u001b[0;34m{\u001b[0m\u001b[0;34m'type'\u001b[0m\u001b[0;34m:\u001b[0m \u001b[0;34m'eq'\u001b[0m\u001b[0;34m,\u001b[0m \u001b[0;34m'fun'\u001b[0m\u001b[0;34m:\u001b[0m \u001b[0mconstraint3\u001b[0m\u001b[0;34m}\u001b[0m\u001b[0;34m\u001b[0m\u001b[0;34m\u001b[0m\u001b[0m\n\u001b[1;32m      7\u001b[0m \u001b[0mcons\u001b[0m \u001b[0;34m=\u001b[0m \u001b[0;34m(\u001b[0m\u001b[0;34m[\u001b[0m\u001b[0mcon1\u001b[0m\u001b[0;34m,\u001b[0m\u001b[0mcon2\u001b[0m\u001b[0;34m,\u001b[0m \u001b[0mcon3\u001b[0m\u001b[0;34m]\u001b[0m\u001b[0;34m)\u001b[0m\u001b[0;34m\u001b[0m\u001b[0;34m\u001b[0m\u001b[0m\n\u001b[0;32m----> 8\u001b[0;31m \u001b[0msolution\u001b[0m \u001b[0;34m=\u001b[0m \u001b[0mminimize\u001b[0m\u001b[0;34m(\u001b[0m\u001b[0mobjective\u001b[0m\u001b[0;34m,\u001b[0m\u001b[0mstate_initials\u001b[0m\u001b[0;34m,\u001b[0m\u001b[0mmethod\u001b[0m\u001b[0;34m=\u001b[0m\u001b[0;34m'SLSQP'\u001b[0m\u001b[0;34m,\u001b[0m\u001b[0mconstraints\u001b[0m\u001b[0;34m=\u001b[0m\u001b[0mcons\u001b[0m\u001b[0;34m)\u001b[0m\u001b[0;34m\u001b[0m\u001b[0;34m\u001b[0m\u001b[0m\n\u001b[0m",
      "\u001b[0;32m~/.local/lib/python3.8/site-packages/scipy/optimize/_minimize.py\u001b[0m in \u001b[0;36mminimize\u001b[0;34m(fun, x0, args, method, jac, hess, hessp, bounds, constraints, tol, callback, options)\u001b[0m\n\u001b[1;32m    623\u001b[0m         \u001b[0;32mreturn\u001b[0m \u001b[0m_minimize_cobyla\u001b[0m\u001b[0;34m(\u001b[0m\u001b[0mfun\u001b[0m\u001b[0;34m,\u001b[0m \u001b[0mx0\u001b[0m\u001b[0;34m,\u001b[0m \u001b[0margs\u001b[0m\u001b[0;34m,\u001b[0m \u001b[0mconstraints\u001b[0m\u001b[0;34m,\u001b[0m \u001b[0;34m**\u001b[0m\u001b[0moptions\u001b[0m\u001b[0;34m)\u001b[0m\u001b[0;34m\u001b[0m\u001b[0;34m\u001b[0m\u001b[0m\n\u001b[1;32m    624\u001b[0m     \u001b[0;32melif\u001b[0m \u001b[0mmeth\u001b[0m \u001b[0;34m==\u001b[0m \u001b[0;34m'slsqp'\u001b[0m\u001b[0;34m:\u001b[0m\u001b[0;34m\u001b[0m\u001b[0;34m\u001b[0m\u001b[0m\n\u001b[0;32m--> 625\u001b[0;31m         return _minimize_slsqp(fun, x0, args, jac, bounds,\n\u001b[0m\u001b[1;32m    626\u001b[0m                                constraints, callback=callback, **options)\n\u001b[1;32m    627\u001b[0m     \u001b[0;32melif\u001b[0m \u001b[0mmeth\u001b[0m \u001b[0;34m==\u001b[0m \u001b[0;34m'trust-constr'\u001b[0m\u001b[0;34m:\u001b[0m\u001b[0;34m\u001b[0m\u001b[0;34m\u001b[0m\u001b[0m\n",
      "\u001b[0;32m~/.local/lib/python3.8/site-packages/scipy/optimize/slsqp.py\u001b[0m in \u001b[0;36m_minimize_slsqp\u001b[0;34m(func, x0, args, jac, bounds, constraints, maxiter, ftol, iprint, disp, eps, callback, finite_diff_rel_step, **unknown_options)\u001b[0m\n\u001b[1;32m    320\u001b[0m     \u001b[0;31m# Set the parameters that SLSQP will need\u001b[0m\u001b[0;34m\u001b[0m\u001b[0;34m\u001b[0m\u001b[0;34m\u001b[0m\u001b[0m\n\u001b[1;32m    321\u001b[0m     \u001b[0;31m# meq, mieq: number of equality and inequality constraints\u001b[0m\u001b[0;34m\u001b[0m\u001b[0;34m\u001b[0m\u001b[0;34m\u001b[0m\u001b[0m\n\u001b[0;32m--> 322\u001b[0;31m     meq = sum(map(len, [atleast_1d(c['fun'](x, *c['args']))\n\u001b[0m\u001b[1;32m    323\u001b[0m               for c in cons['eq']]))\n\u001b[1;32m    324\u001b[0m     mieq = sum(map(len, [atleast_1d(c['fun'](x, *c['args']))\n",
      "\u001b[0;32m~/.local/lib/python3.8/site-packages/scipy/optimize/slsqp.py\u001b[0m in \u001b[0;36m<listcomp>\u001b[0;34m(.0)\u001b[0m\n\u001b[1;32m    320\u001b[0m     \u001b[0;31m# Set the parameters that SLSQP will need\u001b[0m\u001b[0;34m\u001b[0m\u001b[0;34m\u001b[0m\u001b[0;34m\u001b[0m\u001b[0m\n\u001b[1;32m    321\u001b[0m     \u001b[0;31m# meq, mieq: number of equality and inequality constraints\u001b[0m\u001b[0;34m\u001b[0m\u001b[0;34m\u001b[0m\u001b[0;34m\u001b[0m\u001b[0m\n\u001b[0;32m--> 322\u001b[0;31m     meq = sum(map(len, [atleast_1d(c['fun'](x, *c['args']))\n\u001b[0m\u001b[1;32m    323\u001b[0m               for c in cons['eq']]))\n\u001b[1;32m    324\u001b[0m     mieq = sum(map(len, [atleast_1d(c['fun'](x, *c['args']))\n",
      "\u001b[0;31mTypeError\u001b[0m: constraint1() missing 2 required positional arguments: 'q_initials' and 'u_initials'"
     ]
    }
   ],
   "source": [
    "# optimize\n",
    "b = (1.0,5.0)\n",
    "bnds = (b, b, b, b)\n",
    "con1 = {'type': 'eq', 'fun': constraint1} \n",
    "con2 = {'type': 'eq', 'fun': constraint2}\n",
    "con3 = {'type': 'eq', 'fun': constraint3}\n",
    "cons = ([con1,con2, con3])\n",
    "solution = minimize(objective,state_initials,method='SLSQP',constraints=cons)"
   ]
  },
  {
   "cell_type": "code",
   "execution_count": null,
   "metadata": {},
   "outputs": [],
   "source": []
  }
 ],
 "metadata": {
  "kernelspec": {
   "display_name": "Python 3",
   "language": "python",
   "name": "python3"
  },
  "language_info": {
   "codemirror_mode": {
    "name": "ipython",
    "version": 3
   },
   "file_extension": ".py",
   "mimetype": "text/x-python",
   "name": "python",
   "nbconvert_exporter": "python",
   "pygments_lexer": "ipython3",
   "version": "3.8.5"
  }
 },
 "nbformat": 4,
 "nbformat_minor": 4
}
