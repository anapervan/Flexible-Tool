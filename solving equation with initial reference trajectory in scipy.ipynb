{
 "cells": [
  {
   "cell_type": "code",
   "execution_count": 2,
   "metadata": {},
   "outputs": [],
   "source": [
    "import numpy as np\n",
    "from scipy.optimize import minimize\n",
    "\n"
   ]
  },
  {
   "cell_type": "code",
   "execution_count": 54,
   "metadata": {},
   "outputs": [
    {
     "data": {
      "text/plain": [
       "(101,)"
      ]
     },
     "metadata": {},
     "output_type": "display_data"
    }
   ],
   "source": [
    "nt = 101\n",
    "time = np.linspace(0,1,nt)\n",
    "display(time.shape)\n"
   ]
  },
  {
   "cell_type": "code",
   "execution_count": 51,
   "metadata": {},
   "outputs": [
    {
     "data": {
      "text/plain": [
       "array([[1, 0, 0, 0],\n",
       "       [0, 1, 0, 0],\n",
       "       [0, 0, 1, 0],\n",
       "       [0, 0, 0, 1]])"
      ]
     },
     "metadata": {},
     "output_type": "display_data"
    },
    {
     "data": {
      "text/plain": [
       "array([[1. ],\n",
       "       [0.5],\n",
       "       [0.5]])"
      ]
     },
     "metadata": {},
     "output_type": "display_data"
    },
    {
     "data": {
      "text/plain": [
       "(3, 101)"
      ]
     },
     "metadata": {},
     "output_type": "display_data"
    },
    {
     "data": {
      "text/plain": [
       "array([[1],\n",
       "       [0],\n",
       "       [0],\n",
       "       [0],\n",
       "       [0],\n",
       "       [1],\n",
       "       [0],\n",
       "       [0],\n",
       "       [0],\n",
       "       [0],\n",
       "       [1],\n",
       "       [0],\n",
       "       [0],\n",
       "       [0],\n",
       "       [0],\n",
       "       [1]])"
      ]
     },
     "metadata": {},
     "output_type": "display_data"
    },
    {
     "data": {
      "text/plain": [
       "(16, 101)"
      ]
     },
     "metadata": {},
     "output_type": "display_data"
    }
   ],
   "source": [
    "## initial conditions\n",
    "\n",
    "q0 = np.array([[1, 0, 0,0], \n",
    "    [0, 1, 0, 0],\n",
    "    [0, 0, 1, 0],\n",
    "    [0, 0, 0, 1]])\n",
    "display(x0)\n",
    "u0 = np.array([[1.0], [0.5], [0.5]])\n",
    "display(u0)\n",
    "u_initials = u0*np.ones((3,101))\n",
    "display(u_initials.shape)\n",
    "\n",
    "## our initial conditions through the time line are the same. \n",
    "q0_flatten = q0.flatten()\n",
    "q0_flatten = np.reshape(q0_flatten, (16, 1))\n",
    "display(q0_flatten)\n",
    "q_initials = q0_flatten*np.ones((1, 101))\n",
    "display(q_initials.shape)"
   ]
  },
  {
   "cell_type": "code",
   "execution_count": 53,
   "metadata": {},
   "outputs": [
    {
     "data": {
      "text/plain": [
       "(19, 101)"
      ]
     },
     "metadata": {},
     "output_type": "display_data"
    }
   ],
   "source": [
    "## stack q and u initials for 101 time step into one matrix\n",
    "state_initials = np.vstack((q_initials, u_initials))\n",
    "display(state_initials.shape)"
   ]
  },
  {
   "cell_type": "code",
   "execution_count": 63,
   "metadata": {},
   "outputs": [],
   "source": [
    "from scipy.integrate import quad\n",
    "\n",
    "def integrand(state):\n",
    "    c1, c2,c3 = 0.5\n",
    "    u1 = state[17, :]\n",
    "    u2 = state[18, :]\n",
    "    u3 = state[19, :]\n",
    "    return c1*u1**2 + c2*u2**2 + c3*u3**2\n",
    "\n",
    "## develop objective function\n",
    "def objective(state):\n",
    "    c1, c2,c3 = 0.5\n",
    "    u1 = state[17, :]\n",
    "    u2 = state[18, :]\n",
    "    u3 = state[19, :]\n",
    "    min_target = quad(integrand, 0, 1)\n",
    "    \n",
    "    \n",
    "    return min_tatger\n",
    "\n"
   ]
  },
  {
   "cell_type": "code",
   "execution_count": null,
   "metadata": {},
   "outputs": [],
   "source": [
    "def constraint1(state):\n",
    "    return x[0]*x[1]*x[2]*x[3]-25.0\n",
    "\n",
    "def constraint2(state_initials):\n",
    "    return state_initials\n",
    "\n",
    "def constraint3(state_initials):\n",
    "    return state_initials"
   ]
  }
 ],
 "metadata": {
  "kernelspec": {
   "display_name": "Python 3",
   "language": "python",
   "name": "python3"
  },
  "language_info": {
   "codemirror_mode": {
    "name": "ipython",
    "version": 3
   },
   "file_extension": ".py",
   "mimetype": "text/x-python",
   "name": "python",
   "nbconvert_exporter": "python",
   "pygments_lexer": "ipython3",
   "version": "3.8.5"
  }
 },
 "nbformat": 4,
 "nbformat_minor": 4
}
