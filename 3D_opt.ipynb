{
 "cells": [
  {
   "cell_type": "code",
   "execution_count": null,
   "metadata": {
    "colab": {
     "base_uri": "https://localhost:8080/"
    },
    "id": "t7am_tPhTtNu",
    "outputId": "9b65bb2f-dd6c-42c4-f6e1-eb44cddf8111"
   },
   "outputs": [],
   "source": []
  },
  {
   "cell_type": "code",
   "execution_count": 1,
   "metadata": {
    "id": "SGz72Ts0TKob"
   },
   "outputs": [],
   "source": [
    "from gekko import GEKKO\n",
    "import numpy as np\n",
    "import matplotlib.pyplot as plt\n",
    "import math\n",
    "import sympy as sym\n",
    "from sympy import symbols, Function, Eq, solve, Matrix\n",
    "get_ipython().run_line_magic('matplotlib', 'inline')\n"
   ]
  },
  {
   "cell_type": "code",
   "execution_count": 9,
   "metadata": {
    "id": "ILRGZTolTQdZ"
   },
   "outputs": [],
   "source": [
    "### Initialize model\n",
    "m = GEKKO()\n",
    "nt = 101\n",
    "m.time = np.linspace(0,1,nt)\n",
    "up_b = 1.0 # upper bound"
   ]
  },
  {
   "cell_type": "code",
   "execution_count": 10,
   "metadata": {
    "id": "P-iTJ9swTWG2"
   },
   "outputs": [],
   "source": [
    "### Parameters\n",
    "c1 = m.Const(value = 1.0)\n",
    "c2 = m.Const(value = 1.0)\n",
    "c3 = m.Const(value = 1.0)\n",
    "\n",
    "# final conditions for q\n",
    "# b = [1, 0, 0, 1, \n",
    "    #  0, 1, 0, 0, \n",
    "    #  0, 0, 1, 0, \n",
    "    #  0, 0, 0, 1] # final point (opposite end) configuration of rod\n",
    "b11 = m.Const(value = 1.0)\n",
    "b12 = m.Const(value = 0.0)\n",
    "b13 = m.Const(value = 0.0)\n",
    "b14 = m.Const(value = 1.0)\n",
    "b21 = m.Const(value = 0.0)\n",
    "b22 = m.Const(value = 1.0)\n",
    "b23 = m.Const(value = 0.0)\n",
    "b24 = m.Const(value = 1.0)\n",
    "b31 = m.Const(value = 0.0)\n",
    "b32 = m.Const(value = 0.0)\n",
    "b33 = m.Const(value = 1.0)\n",
    "b34 = m.Const(value = 0.0)\n",
    "b41 = m.Const(value = 0.0)\n",
    "b42 = m.Const(value = 0.0)\n",
    "b43 = m.Const(value = 0.0)\n",
    "b44 = m.Const(value = 1.0)\n",
    "\n",
    "\n",
    "p = np.zeros(nt) # final time point\n",
    "p[-1] = 1.0\n",
    "final = m.Param(value=p)\n",
    "\n",
    "qminimize = m.Var(value = 0)\n"
   ]
  },
  {
   "cell_type": "code",
   "execution_count": 11,
   "metadata": {
    "id": "QavLW8kqTZMh"
   },
   "outputs": [],
   "source": [
    "### Variables\n",
    "# need to figure out what's the initial values for mus\n",
    "# mu1 = m.Var(value = 0.1, lb = 0, ub = 1)\n",
    "# mu2 = m.Var(value = 0.1, lb = 0, ub = 1)\n",
    "# mu3 = m.Var(value = 0.1, lb = 0, ub = 1)\n",
    "# mu4 = m.Var(value = 0.1, lb = 0, ub = 1)\n",
    "# mu5 = m.Var(value = 0.1, lb = 0, ub = 1)\n",
    "# mu6 = m.Var(value = 0.1, lb = 0, ub = 1)\n",
    "mu1 = m.Var(value = 0.0)\n",
    "mu2 = m.Var(value = 0.0)\n",
    "mu3 = m.Var(value = 0.0)\n",
    "mu4 = m.Var(value = 0.0)\n",
    "mu5 = m.Var(value = 0.0)\n",
    "mu6 = m.Var(value = 0.0)\n",
    "\n",
    "# u1 = m.Var(fixed_initial=False)\n",
    "# u2 = m.Var(fixed_initial=False)\n",
    "# u3 = m.Var(fixed_initial=False)\n",
    "u1 = m.Var(value = 0.0)\n",
    "u2 = m.Var(value = 0.0)\n",
    "u3 = m.Var(value = 0.0)\n",
    "\n",
    "# e = [1,0,0,0, \n",
    "     # 0,1,0,0, \n",
    "     # 0,0,1,0, \n",
    "     # 0,0,0,1] # beginning point of rod - no rotation or translation\n",
    "\n",
    "q11 = m.Var(value = 1.0, lb = 0, ub = up_b)\n",
    "q12 = m.Var(value = 0.0, lb = 0, ub = up_b)\n",
    "q13 = m.Var(value = 0.0, lb = 0, ub = up_b)\n",
    "q14 = m.Var(value = 0.0, lb = 0, ub = up_b)\n",
    "q21 = m.Var(value = 0.0, lb = 0, ub = up_b)\n",
    "q22 = m.Var(value = 1.0, lb = 0, ub = up_b)\n",
    "q23 = m.Var(value = 0.0, lb = 0, ub = up_b)\n",
    "q24 = m.Var(value = 0.0, lb = 0, ub = up_b)\n",
    "q31 = m.Var(value = 0.0, lb = 0, ub = up_b)\n",
    "q32 = m.Var(value = 0.0, lb = 0, ub = up_b)\n",
    "q33 = m.Var(value = 1.0, lb = 0, ub = up_b)\n",
    "q34 = m.Var(value = 0.0, lb = 0, ub = up_b)\n",
    "q41 = m.Var(value = 0.0, lb = 0, ub = up_b)\n",
    "q42 = m.Var(value = 0.0, lb = 0, ub = up_b)\n",
    "q43 = m.Var(value = 0.0, lb = 0, ub = up_b)\n",
    "q44 = m.Var(value = 1.0, lb = 0, ub = up_b)\n",
    "\n",
    "\n",
    "\n",
    "# qminimize = m.Var(value = 0)"
   ]
  },
  {
   "cell_type": "code",
   "execution_count": 12,
   "metadata": {
    "id": "Eiv-svOuTcDf"
   },
   "outputs": [],
   "source": [
    "### Equations\n",
    "m.Equation(u1 == c1**(-1)*mu1)\n",
    "m.Equation(u2 == c2**(-1)*mu2)\n",
    "m.Equation(u3 == c3**(-1)*mu3)\n",
    "\n",
    "m.Equation(mu1.dt() == u3*mu2 - u2*mu3)\n",
    "m.Equation(mu2.dt() == mu6 +u1*mu3 - u3*mu1)\n",
    "m.Equation(mu3.dt() == -mu5 + u2*mu1 - u1*mu2)\n",
    "m.Equation(mu4.dt() == u3*mu5 - u2*mu6)\n",
    "m.Equation(mu5.dt() == u1*mu6 - u3*mu4)\n",
    "m.Equation(mu6.dt() == u2*mu4 - u1*mu5)\n",
    "\n",
    "m.Equation(q11.dt() == u3*q12 - u2*q13)\n",
    "m.Equation(q12.dt() == -u3*q11 + u1*q13)\n",
    "m.Equation(q13.dt() == u2*q11 - u1*q12)\n",
    "m.Equation(q14.dt() == q11)\n",
    "\n",
    "m.Equation(q21.dt() == u3*q22 - u2*q23)\n",
    "m.Equation(q22.dt() == -u3*q21 + u1*q23)\n",
    "m.Equation(q23.dt() == u2*q21 - u1*q22)\n",
    "m.Equation(q24.dt() == q21)\n",
    "\n",
    "m.Equation(q31.dt() == u3*q32 - u2*q33)\n",
    "m.Equation(q32.dt() == -u3*q31 + u1*q33)\n",
    "m.Equation(q33.dt() == u2*q31 - u1*q31)\n",
    "m.Equation(q34.dt() == q31)\n",
    "\n",
    "m.Equation(q41.dt() == u3*q42 - u2*q43)\n",
    "m.Equation(q42.dt() == -u3*q41 + u1*q43)\n",
    "m.Equation(q43.dt() == u2*q41 - u1*q42)\n",
    "m.Equation(q44.dt() == q41)\n",
    "\n",
    "m.Equation(qminimize.dt()== 0.5*(c1*u1**2 + c2*u2**2 + c3*u3**2))\n",
    "\n",
    "\n",
    "m.fix_final(q11, val=b11)\n",
    "m.fix_final(q12, val=b12)\n",
    "m.fix_final(q13, val=b13)\n",
    "m.fix_final(q14, val=b14)\n",
    "\n",
    "m.fix_final(q21, val=b21)\n",
    "m.fix_final(q22, val=b22)\n",
    "m.fix_final(q23, val=b23)\n",
    "m.fix_final(q24, val=b24)\n",
    "\n",
    "m.fix_final(q31, val=b31)\n",
    "m.fix_final(q32, val=b32)\n",
    "m.fix_final(q33, val=b33)\n",
    "m.fix_final(q34, val=b34)\n",
    "\n",
    "m.fix_final(q41, val=b41)\n",
    "m.fix_final(q42, val=b42)\n",
    "m.fix_final(q43, val=b43)\n",
    "m.fix_final(q44, val=b44)\n",
    "\n",
    "\n",
    "m.fix_initial(q11, val=1)\n",
    "m.fix_initial(q12, val=0)\n",
    "m.fix_initial(q13, val=0)\n",
    "m.fix_initial(q14, val=0)\n",
    "\n",
    "m.fix_initial(q21, val=0)\n",
    "m.fix_initial(q22, val=1)\n",
    "m.fix_initial(q23, val=0)\n",
    "m.fix_initial(q24, val=0)\n",
    "\n",
    "m.fix_initial(q31, val=0)\n",
    "m.fix_initial(q32, val=0)\n",
    "m.fix_initial(q33, val=1)\n",
    "m.fix_initial(q34, val=0)\n",
    "\n",
    "m.fix_initial(q41, val=0)\n",
    "m.fix_initial(q42, val=0)\n",
    "m.fix_initial(q43, val=0)\n",
    "m.fix_initial(q44, val=1)\n",
    "\n",
    "# m.Equation(qminimize.dt() == 0.5*(c1*u1**2 + c2*u2**2 + c3*u3**2))"
   ]
  },
  {
   "cell_type": "code",
   "execution_count": 13,
   "metadata": {
    "colab": {
     "base_uri": "https://localhost:8080/",
     "height": 341
    },
    "id": "m18RfS_YTgCr",
    "outputId": "6966d03d-c9ff-4e56-e1a9-e80abd278dbd"
   },
   "outputs": [],
   "source": [
    "### Objective\n",
    "m.Obj(qminimize*final)\n",
    "# m.Obj(0.5*m.integral(c1*u1**2 + c2*u2**2 + c3*u3**2))\n",
    "\n",
    "### Solve\n",
    "m.options.IMODE = 6       # 6 = simultaneous (CTL)\n",
    "m.solve(disp=False)\n",
    "# m.solve()\n"
   ]
  },
  {
   "cell_type": "code",
   "execution_count": 14,
   "metadata": {
    "id": "ynRR7Kv_V4zd"
   },
   "outputs": [
    {
     "data": {
      "text/plain": [
       "[<matplotlib.lines.Line2D at 0x7fa2857e98e0>]"
      ]
     },
     "execution_count": 14,
     "metadata": {},
     "output_type": "execute_result"
    },
    {
     "data": {
      "image/png": "[encoded data removed]",
      "text/plain": [
       "<Figure size 432x288 with 1 Axes>"
      ]
     },
     "metadata": {
      "needs_background": "light"
     },
     "output_type": "display_data"
    }
   ],
   "source": [
    "plt.plot(q14.value,q24.value,'k-',label=r'$q_1$')"
   ]
  },
  {
   "cell_type": "code",
   "execution_count": null,
   "metadata": {},
   "outputs": [],
   "source": []
  }
 ],
 "metadata": {
  "colab": {
   "collapsed_sections": [],
   "name": "3D_opt.ipynb",
   "provenance": []
  },
  "kernelspec": {
   "display_name": "Python 3",
   "language": "python",
   "name": "python3"
  },
  "language_info": {
   "codemirror_mode": {
    "name": "ipython",
    "version": 3
   },
   "file_extension": ".py",
   "mimetype": "text/x-python",
   "name": "python",
   "nbconvert_exporter": "python",
   "pygments_lexer": "ipython3",
   "version": "3.8.5"
  }
 },
 "nbformat": 4,
 "nbformat_minor": 1
}
