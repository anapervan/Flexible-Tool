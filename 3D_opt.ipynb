{
  "nbformat": 4,
  "nbformat_minor": 0,
  "metadata": {
    "colab": {
      "name": "3D_opt.ipynb",
      "provenance": [],
      "collapsed_sections": []
    },
    "kernelspec": {
      "name": "python3",
      "display_name": "Python 3"
    },
    "language_info": {
      "name": "python"
    }
  },
  "cells": [
    {
      "cell_type": "code",
      "metadata": {
        "id": "t7am_tPhTtNu",
        "colab": {
          "base_uri": "https://localhost:8080/"
        },
        "outputId": "9b65bb2f-dd6c-42c4-f6e1-eb44cddf8111"
      },
      "source": [
        "!pip install gekko\n",
        "!pip install sympy"
      ],
      "execution_count": 1,
      "outputs": [
        {
          "output_type": "stream",
          "text": [
            "Requirement already satisfied: gekko in /usr/local/lib/python3.7/dist-packages (0.2.8)\n",
            "Requirement already satisfied: flask in /usr/local/lib/python3.7/dist-packages (from gekko) (1.1.2)\n",
            "Requirement already satisfied: numpy>=1.8 in /usr/local/lib/python3.7/dist-packages (from gekko) (1.19.5)\n",
            "Requirement already satisfied: flask-cors in /usr/local/lib/python3.7/dist-packages (from gekko) (3.0.10)\n",
            "Requirement already satisfied: Jinja2>=2.10.1 in /usr/local/lib/python3.7/dist-packages (from flask->gekko) (2.11.3)\n",
            "Requirement already satisfied: itsdangerous>=0.24 in /usr/local/lib/python3.7/dist-packages (from flask->gekko) (1.1.0)\n",
            "Requirement already satisfied: Werkzeug>=0.15 in /usr/local/lib/python3.7/dist-packages (from flask->gekko) (1.0.1)\n",
            "Requirement already satisfied: click>=5.1 in /usr/local/lib/python3.7/dist-packages (from flask->gekko) (7.1.2)\n",
            "Requirement already satisfied: Six in /usr/local/lib/python3.7/dist-packages (from flask-cors->gekko) (1.15.0)\n",
            "Requirement already satisfied: MarkupSafe>=0.23 in /usr/local/lib/python3.7/dist-packages (from Jinja2>=2.10.1->flask->gekko) (1.1.1)\n",
            "Requirement already satisfied: sympy in /usr/local/lib/python3.7/dist-packages (1.7.1)\n",
            "Requirement already satisfied: mpmath>=0.19 in /usr/local/lib/python3.7/dist-packages (from sympy) (1.2.1)\n"
          ],
          "name": "stdout"
        }
      ]
    },
    {
      "cell_type": "code",
      "metadata": {
        "id": "SGz72Ts0TKob"
      },
      "source": [
        "from gekko import GEKKO\n",
        "import numpy as np\n",
        "import matplotlib.pyplot as plt\n",
        "import math\n",
        "import sympy as sym\n",
        "from sympy import symbols, Function, Eq, solve, Matrix\n",
        "get_ipython().run_line_magic('matplotlib', 'inline')\n"
      ],
      "execution_count": 2,
      "outputs": []
    },
    {
      "cell_type": "code",
      "metadata": {
        "id": "ILRGZTolTQdZ"
      },
      "source": [
        "### Initialize model\n",
        "m = GEKKO()\n",
        "nt = 101\n",
        "m.time = np.linspace(0,1,nt)\n",
        "up_b = 1.0 # upper bound"
      ],
      "execution_count": 3,
      "outputs": []
    },
    {
      "cell_type": "code",
      "metadata": {
        "id": "P-iTJ9swTWG2"
      },
      "source": [
        "### Parameters\n",
        "c1 = m.Param(value = 1.0)\n",
        "c2 = m.Param(value = 1.0)\n",
        "c3 = m.Param(value = 1.0)\n",
        "\n",
        "# final conditions for q\n",
        "# b = [1, 0, 0, 1, \n",
        "    #  0, 1, 0, 0, \n",
        "    #  0, 0, 1, 0, \n",
        "    #  0, 0, 0, 1] # final point (opposite end) configuration of rod\n",
        "b11 = m.Param(value = 1.0)\n",
        "b12 = m.Param(value = 0.0)\n",
        "b13 = m.Param(value = 0.0)\n",
        "b14 = m.Param(value = 1.0)\n",
        "b21 = m.Param(value = 0.0)\n",
        "b22 = m.Param(value = 1.0)\n",
        "b23 = m.Param(value = 0.0)\n",
        "b24 = m.Param(value = 0.0)\n",
        "b31 = m.Param(value = 0.0)\n",
        "b32 = m.Param(value = 0.0)\n",
        "b33 = m.Param(value = 1.0)\n",
        "b34 = m.Param(value = 0.0)\n",
        "b41 = m.Param(value = 0.0)\n",
        "b42 = m.Param(value = 0.0)\n",
        "b43 = m.Param(value = 0.0)\n",
        "b44 = m.Param(value = 1.0)\n",
        "\n",
        "\n",
        "p = np.zeros(nt) # final time point\n",
        "p[-1] = 1.0\n",
        "final = m.Param(value=p)\n"
      ],
      "execution_count": 9,
      "outputs": []
    },
    {
      "cell_type": "code",
      "metadata": {
        "id": "QavLW8kqTZMh"
      },
      "source": [
        "### Variables\n",
        "# need to figure out what's the initial values for mus\n",
        "# mu1 = m.Var(value = 0.1, lb = 0, ub = 1)\n",
        "# mu2 = m.Var(value = 0.1, lb = 0, ub = 1)\n",
        "# mu3 = m.Var(value = 0.1, lb = 0, ub = 1)\n",
        "# mu4 = m.Var(value = 0.1, lb = 0, ub = 1)\n",
        "# mu5 = m.Var(value = 0.1, lb = 0, ub = 1)\n",
        "# mu6 = m.Var(value = 0.1, lb = 0, ub = 1)\n",
        "mu1 = m.Var(value = 0.0)\n",
        "mu2 = m.Var(value = 0.0)\n",
        "mu3 = m.Var(value = 0.0)\n",
        "mu4 = m.Var(value = 0.0)\n",
        "mu5 = m.Var(value = 0.0)\n",
        "mu6 = m.Var(value = 0.0)\n",
        "\n",
        "# u1 = m.Var(fixed_initial=False)\n",
        "# u2 = m.Var(fixed_initial=False)\n",
        "# u3 = m.Var(fixed_initial=False)\n",
        "u1 = m.Var(value = 0.0)\n",
        "u2 = m.Var(value = 0.0)\n",
        "u3 = m.Var(value = 0.0)\n",
        "\n",
        "# e = [1,0,0,0, \n",
        "     # 0,1,0,0, \n",
        "     # 0,0,1,0, \n",
        "     # 0,0,0,1] # beginning point of rod - no rotation or translation\n",
        "\n",
        "q11 = m.Var(value = 1.0, lb = 0, ub = up_b)\n",
        "q12 = m.Var(value = 0.0, lb = 0, ub = up_b)\n",
        "q13 = m.Var(value = 0.0, lb = 0, ub = up_b)\n",
        "q14 = m.Var(value = 0.0, lb = 0, ub = up_b)\n",
        "q21 = m.Var(value = 0.0, lb = 0, ub = up_b)\n",
        "q22 = m.Var(value = 1.0, lb = 0, ub = up_b)\n",
        "q23 = m.Var(value = 0.0, lb = 0, ub = up_b)\n",
        "q24 = m.Var(value = 0.0, lb = 0, ub = up_b)\n",
        "q31 = m.Var(value = 0.0, lb = 0, ub = up_b)\n",
        "q32 = m.Var(value = 0.0, lb = 0, ub = up_b)\n",
        "q33 = m.Var(value = 1.0, lb = 0, ub = up_b)\n",
        "q34 = m.Var(value = 0.0, lb = 0, ub = up_b)\n",
        "q41 = m.Var(value = 0.0, lb = 0, ub = up_b)\n",
        "q42 = m.Var(value = 0.0, lb = 0, ub = up_b)\n",
        "q43 = m.Var(value = 0.0, lb = 0, ub = up_b)\n",
        "q44 = m.Var(value = 1.0, lb = 0, ub = up_b)\n",
        "\n",
        "# qminimize = m.Var(value = 0)"
      ],
      "execution_count": 10,
      "outputs": []
    },
    {
      "cell_type": "code",
      "metadata": {
        "id": "Eiv-svOuTcDf"
      },
      "source": [
        "### Equations\n",
        "m.Equation(u1 == c1**(-1)*mu1)\n",
        "m.Equation(u2 == c2**(-1)*mu2)\n",
        "m.Equation(u3 == c3**(-1)*mu3)\n",
        "\n",
        "m.Equation(mu1.dt() == u3*mu2 - u2*mu3)\n",
        "m.Equation(mu2.dt() == mu6 +u1*mu3 - u3*mu1)\n",
        "m.Equation(mu3.dt() == -mu5 + u2*mu1 - u1*mu2)\n",
        "m.Equation(mu4.dt() == u3*mu5 - u2*mu6)\n",
        "m.Equation(mu5.dt() == u1*mu6 - u3*mu4)\n",
        "m.Equation(mu6.dt() == u2*mu4 - u1*mu5)\n",
        "\n",
        "m.Equation(q11.dt() == u3*q12 - u2*q13)\n",
        "m.Equation(q12.dt() == -u3*q11 + u1*q13)\n",
        "m.Equation(q13.dt() == u2*q11 - u1*q12)\n",
        "m.Equation(q14.dt() == q11)\n",
        "\n",
        "m.Equation(q21.dt() == u3*q22 - u2*q23)\n",
        "m.Equation(q22.dt() == -u3*q21 + u1*q23)\n",
        "m.Equation(q23.dt() == u2*q21 - u1*q22)\n",
        "m.Equation(q24.dt() == q21)\n",
        "\n",
        "m.Equation(q31.dt() == u3*q32 - u2*q33)\n",
        "m.Equation(q32.dt() == -u3*q31 + u1*q33)\n",
        "m.Equation(q33.dt() == u2*q31 - u1*q31)\n",
        "m.Equation(q34.dt() == q31)\n",
        "\n",
        "m.Equation(q41.dt() == u3*q42 - u2*q43)\n",
        "m.Equation(q42.dt() == -u3*q41 + u1*q43)\n",
        "m.Equation(q43.dt() == u2*q41 - u1*q42)\n",
        "m.Equation(q44.dt() == q41)\n",
        "\n",
        "\n",
        "m.fix_final(q11, val=b11)\n",
        "m.fix_final(q12, val=b12)\n",
        "m.fix_final(q13, val=b13)\n",
        "m.fix_final(q14, val=b14)\n",
        "\n",
        "m.fix_final(q21, val=b21)\n",
        "m.fix_final(q22, val=b22)\n",
        "m.fix_final(q23, val=b23)\n",
        "m.fix_final(q24, val=b24)\n",
        "\n",
        "m.fix_final(q31, val=b31)\n",
        "m.fix_final(q32, val=b32)\n",
        "m.fix_final(q33, val=b33)\n",
        "m.fix_final(q34, val=b34)\n",
        "\n",
        "m.fix_final(q41, val=b41)\n",
        "m.fix_final(q42, val=b42)\n",
        "m.fix_final(q43, val=b43)\n",
        "m.fix_final(q44, val=b44)\n",
        "\n",
        "# m.Equation(qminimize.dt() == 0.5*(c1*u1**2 + c2*u2**2 + c3*u3**2))"
      ],
      "execution_count": 11,
      "outputs": []
    },
    {
      "cell_type": "code",
      "metadata": {
        "id": "m18RfS_YTgCr",
        "colab": {
          "base_uri": "https://localhost:8080/",
          "height": 341
        },
        "outputId": "6966d03d-c9ff-4e56-e1a9-e80abd278dbd"
      },
      "source": [
        "### Objective\n",
        "# m.Obj(qminimize*final)\n",
        "m.Obj(0.5*m.integral(c1*u1**2 + c2*u2**2 + c3*u3**2))\n",
        "\n",
        "### Solve\n",
        "m.options.IMODE = 6       # 6 = simultaneous (CTL)\n",
        "m.solve(disp=False)\n",
        "# m.solve()\n"
      ],
      "execution_count": 12,
      "outputs": [
        {
          "output_type": "error",
          "ename": "Exception",
          "evalue": "ignored",
          "traceback": [
            "\u001b[0;31m---------------------------------------------------------------------------\u001b[0m",
            "\u001b[0;31mException\u001b[0m                                 Traceback (most recent call last)",
            "\u001b[0;32m<ipython-input-12-9a1732596f39>\u001b[0m in \u001b[0;36m<module>\u001b[0;34m()\u001b[0m\n\u001b[1;32m      5\u001b[0m \u001b[0;31m### Solve\u001b[0m\u001b[0;34m\u001b[0m\u001b[0;34m\u001b[0m\u001b[0;34m\u001b[0m\u001b[0m\n\u001b[1;32m      6\u001b[0m \u001b[0mm\u001b[0m\u001b[0;34m.\u001b[0m\u001b[0moptions\u001b[0m\u001b[0;34m.\u001b[0m\u001b[0mIMODE\u001b[0m \u001b[0;34m=\u001b[0m \u001b[0;36m6\u001b[0m       \u001b[0;31m# 6 = simultaneous (CTL)\u001b[0m\u001b[0;34m\u001b[0m\u001b[0;34m\u001b[0m\u001b[0m\n\u001b[0;32m----> 7\u001b[0;31m \u001b[0mm\u001b[0m\u001b[0;34m.\u001b[0m\u001b[0msolve\u001b[0m\u001b[0;34m(\u001b[0m\u001b[0mdisp\u001b[0m\u001b[0;34m=\u001b[0m\u001b[0;32mFalse\u001b[0m\u001b[0;34m)\u001b[0m\u001b[0;34m\u001b[0m\u001b[0;34m\u001b[0m\u001b[0m\n\u001b[0m\u001b[1;32m      8\u001b[0m \u001b[0;31m# m.solve()\u001b[0m\u001b[0;34m\u001b[0m\u001b[0;34m\u001b[0m\u001b[0;34m\u001b[0m\u001b[0m\n",
            "\u001b[0;32m/usr/local/lib/python3.7/dist-packages/gekko/gekko.py\u001b[0m in \u001b[0;36msolve\u001b[0;34m(self, disp, debug, GUI, **kwargs)\u001b[0m\n\u001b[1;32m   2172\u001b[0m             \u001b[0;31m#print APM error message and die\u001b[0m\u001b[0;34m\u001b[0m\u001b[0;34m\u001b[0m\u001b[0;34m\u001b[0m\u001b[0m\n\u001b[1;32m   2173\u001b[0m             \u001b[0;32mif\u001b[0m \u001b[0;34m(\u001b[0m\u001b[0mdebug\u001b[0m \u001b[0;34m>=\u001b[0m \u001b[0;36m1\u001b[0m\u001b[0;34m)\u001b[0m \u001b[0;32mand\u001b[0m \u001b[0;34m(\u001b[0m\u001b[0;34m'@error'\u001b[0m \u001b[0;32min\u001b[0m \u001b[0mresponse\u001b[0m\u001b[0;34m)\u001b[0m\u001b[0;34m:\u001b[0m\u001b[0;34m\u001b[0m\u001b[0;34m\u001b[0m\u001b[0m\n\u001b[0;32m-> 2174\u001b[0;31m                 \u001b[0;32mraise\u001b[0m \u001b[0mException\u001b[0m\u001b[0;34m(\u001b[0m\u001b[0mresponse\u001b[0m\u001b[0;34m)\u001b[0m\u001b[0;34m\u001b[0m\u001b[0;34m\u001b[0m\u001b[0m\n\u001b[0m\u001b[1;32m   2175\u001b[0m \u001b[0;34m\u001b[0m\u001b[0m\n\u001b[1;32m   2176\u001b[0m             \u001b[0;31m#load results\u001b[0m\u001b[0;34m\u001b[0m\u001b[0;34m\u001b[0m\u001b[0;34m\u001b[0m\u001b[0m\n",
            "\u001b[0;31mException\u001b[0m:  @error: Solution Not Found\n"
          ]
        }
      ]
    },
    {
      "cell_type": "code",
      "metadata": {
        "id": "ynRR7Kv_V4zd"
      },
      "source": [
        ""
      ],
      "execution_count": null,
      "outputs": []
    }
  ]
}