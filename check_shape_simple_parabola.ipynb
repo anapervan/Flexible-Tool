{
 "cells": [
  {
   "cell_type": "code",
   "execution_count": 145,
   "metadata": {},
   "outputs": [],
   "source": [
    "import numpy as np\n",
    "import sympy as sym\n",
    "from scipy.integrate import solve_bvp # solve boundary value problem\n",
    "from scipy.integrate import solve_ivp # solve initial value problem\n",
    "from scipy.optimize import minimize\n",
    "from scipy.linalg import norm\n",
    "import scipy\n",
    "import math\n",
    "pi = math.pi\n",
    "%matplotlib inline \n",
    "import matplotlib.pyplot as plt\n",
    "from IPython.display import Image\n",
    "from math import *\n",
    "from scipy.interpolate import CubicSpline\n",
    "from numba import jit, prange\n",
    "from sympy import *"
   ]
  },
  {
   "cell_type": "code",
   "execution_count": 146,
   "metadata": {},
   "outputs": [],
   "source": [
    "nt = 7\n",
    "T = 1\n",
    "dt = T/(nt-1)"
   ]
  },
  {
   "cell_type": "code",
   "execution_count": 147,
   "metadata": {},
   "outputs": [],
   "source": [
    "x = sym.Symbol('x')\n",
    "y = sym.Symbol('y')\n",
    "a, b, c = 1, -2, 0\n",
    "\n",
    "y = -(a*x**2 + b*x + c)\n",
    "theta = diff(y,x)\n",
    "u = diff(theta, x)\n",
    "\n",
    "xsubs = np.linspace(0, 0+ 2*(-b/(2*a)),nt)\n",
    "\n",
    "thetasubs = []\n",
    "# usubs = []\n",
    "ysubs = []\n",
    "for i in range(len(xsubs)):\n",
    "    ysubs.append((y.subs(x, xsubs[i])).evalf())\n",
    "    thetasubs.append((theta.subs(x, xsubs[i])).evalf())\n",
    "#     usubs.append((u.subs(x, xsubs[i])).evalf())\n",
    "\n",
    "##### u should be size one less than theta, x andy y\n",
    "usubs = np.zeros(nt)\n",
    "for i in range(nt-1):\n",
    "    usubs[i] = (thetasubs[i+1] - thetasubs[i])/dt"
   ]
  },
  {
   "cell_type": "code",
   "execution_count": 148,
   "metadata": {},
   "outputs": [
    {
     "name": "stdout",
     "output_type": "stream",
     "text": [
      "x value [0.         0.33333333 0.66666667 1.         1.33333333 1.66666667\n",
      " 2.        ]\n",
      "y value [0, 0.555555555555556, 0.888888888888889, 1.00000000000000, 0.888888888888889, 0.555555555555556, 0]\n",
      "theta value [2.00000000000000, 1.33333333333333, 0.666666666666667, 0, -0.666666666666667, -1.33333333333333, -2.00000000000000]\n",
      "u value [-4. -4. -4. -4. -4. -4.  0.]\n"
     ]
    }
   ],
   "source": [
    "print('x value', xsubs)\n",
    "print('y value', ysubs)\n",
    "print('theta value', thetasubs)\n",
    "print('u value', usubs)"
   ]
  },
  {
   "cell_type": "code",
   "execution_count": 149,
   "metadata": {},
   "outputs": [
    {
     "data": {
      "text/plain": [
       "[<matplotlib.lines.Line2D at 0x7f351278e7c0>]"
      ]
     },
     "execution_count": 149,
     "metadata": {},
     "output_type": "execute_result"
    },
    {
     "data": {
      "image/png": "[encoded data removed]",
      "text/plain": [
       "<Figure size 432x288 with 1 Axes>"
      ]
     },
     "metadata": {
      "needs_background": "light"
     },
     "output_type": "display_data"
    }
   ],
   "source": [
    "plt.plot(xsubs, ysubs)"
   ]
  },
  {
   "cell_type": "code",
   "execution_count": 150,
   "metadata": {},
   "outputs": [
    {
     "data": {
      "text/plain": [
       "[<matplotlib.lines.Line2D at 0x7f351258deb0>]"
      ]
     },
     "execution_count": 150,
     "metadata": {},
     "output_type": "execute_result"
    },
    {
     "data": {
      "image/png": "[encoded data removed]",
      "text/plain": [
       "<Figure size 432x288 with 1 Axes>"
      ]
     },
     "metadata": {
      "needs_background": "light"
     },
     "output_type": "display_data"
    }
   ],
   "source": [
    "x_sim = np.zeros(len(xsubs))\n",
    "y_sim = np.zeros(len(ysubs))\n",
    "theta_sim = np.zeros(len(thetasubs))\n",
    "for i in range(nt-1):\n",
    "        if i == 0:\n",
    "            x_sim[0], y_sim[0], theta_sim[0] = xsubs[0], ysubs[0], thetasubs[0]\n",
    "\n",
    "\n",
    "        x_sim[i+1] = x_sim[i] +  dt*cos(theta_sim[i])\n",
    "        y_sim[i+1] = y_sim[i] +  dt*sin(theta_sim[i])\n",
    "        theta_sim[i+1] = theta_sim[i] + dt*usubs[i]\n",
    "\n",
    "\n",
    "\n",
    "plt.plot(x_sim, y_sim)"
   ]
  },
  {
   "cell_type": "code",
   "execution_count": 151,
   "metadata": {},
   "outputs": [
    {
     "name": "stdout",
     "output_type": "stream",
     "text": [
      "(4, 7)\n"
     ]
    }
   ],
   "source": [
    "ysubs = np.array(y_sim)\n",
    "thetasubs = np.array(theta_sim)\n",
    "usubs = np.array(usubs)\n",
    "usubs = usubs.reshape((1,nt))\n",
    "xsubs = xsubs.reshape((1,nt))\n",
    "ysubs = ysubs.reshape((1,nt))\n",
    "thetasubs = thetasubs.reshape((1,nt))\n",
    "state = np.vstack((xsubs,ysubs,thetasubs,usubs))\n",
    "state_initials = state\n",
    "print(state_initials.shape)\n",
    "\n",
    "start_state = state_initials[0:3,0] \n",
    "end_state = state_initials[0:3,-1] \n"
   ]
  },
  {
   "cell_type": "code",
   "execution_count": 152,
   "metadata": {},
   "outputs": [],
   "source": [
    "# @jit(nopython=True)\n",
    "def cost_function(state_initials, nt, dt):\n",
    "    state_initials = state_initials.reshape((4,nt))\n",
    "    u_cost = state_initials[-1,:]\n",
    "#     u_cost = state_initials[-1,:]\n",
    "    running_cost = np.zeros((len(u_cost)))\n",
    "    \n",
    "    for i in prange(len(u_cost)):\n",
    "        running_cost[i] = dt*0.5*(u_cost[i])**2\n",
    "    cost = np.sum(np.square(running_cost))\n",
    "    return cost"
   ]
  },
  {
   "cell_type": "code",
   "execution_count": 153,
   "metadata": {},
   "outputs": [],
   "source": [
    "###### constriants from paper\n",
    "\n",
    "# @jit(nopython=True)\n",
    "def system_dynamics(state_initials):\n",
    "    state_initials = state_initials.reshape((4,nt))\n",
    "    q = state_initials[0:3,:]\n",
    "\n",
    "    u = state_initials[-1,:]\n",
    "    u = u.reshape(1,(nt))\n",
    "    m,n = u.shape\n",
    "    \n",
    "#     error = np.zeros( 3*(nt-1) )\n",
    "    error = np.zeros( 3*(nt) )\n",
    "    initial_weight, final_weight = 1,1\n",
    "\n",
    "    for i in range(nt-1):\n",
    "        error[3*i] = (q[0, i+1] - q[0,i]) - dt*cos(q[2,i])\n",
    "        error[3*i+1] = (q[1, i+1] - q[1,i]) - dt*sin(q[2,i])\n",
    "        error[3*i+2] = (q[2, i+1] - q[2,i]) - dt*u[:,i]\n",
    "    \n",
    "#     print('before constriants', error)\n",
    "        \n",
    "        \n",
    "    \n",
    "#     error_bound = np.zeros(3*(nt-1))\n",
    "#     error_bound = np.zeros(3*(nt))\n",
    "#     error_bound[0] =  initial_weight*(q[0,0] - start_state[0])\n",
    "#     error_bound[1] = initial_weight*(q[1,0] - start_state[1])\n",
    "#     error_bound[2] = initial_weight*(q[2,0] - start_state[2])\n",
    "    \n",
    "#     error_bound[-3] = final_weight*(q[0,-1] - end_state[0])\n",
    "#     error_bound[-2] = final_weight*(q[1,-1] - end_state[1])\n",
    "#     error_bound[-1] = final_weight*(q[2,-1] - end_state[2])\n",
    "    error_initial = np.zeros(3)\n",
    "#     error[0] = error[0] + initial_weight*(q[0,0] - start_state[0])\n",
    "#     error[1] = error[1] + initial_weight*(q[1,0] - start_state[1])\n",
    "#     error[2] = error[2] + initial_weight*(q[2,0] - start_state[2])\n",
    "    error_initial[0] = initial_weight*(q[0,0] - start_state[0])\n",
    "    error_initial[1] = initial_weight*(q[1,0] - start_state[1])\n",
    "    error_initial[2] = initial_weight*(q[2,0] - start_state[2])\n",
    "    \n",
    "    error[-3] = error[-3] + final_weight*(q[0,-1] - end_state[0])\n",
    "    error[-2] = error[-2] + final_weight*(q[1,-1] - end_state[1])\n",
    "    error[-1] = error[-1] + final_weight*(q[2,-1] - end_state[2])\n",
    "    \n",
    "#     print('after constriants', error)\n",
    "#     print('--------------------------------------')\n",
    "    error_all = np.concatenate((error_initial, error), axis = None)\n",
    "    \n",
    "    \n",
    "    \n",
    "#     print(error)\n",
    "    \n",
    "#     error_all = np.concatenate((error, error_bound), axis = None)\n",
    "#     error_all = error + error_bound\n",
    "#     print(error_all)\n",
    "#     print('----------------------------------')\n",
    "\n",
    "    \n",
    "        \n",
    "        \n",
    "#     error[-6] = inital_weight*(q[0,0] - start_state[0])\n",
    "#     error[-5] = inital_weight*(q[1,0] - start_state[1])\n",
    "#     error[-4] = inital_weight*(q[2,0] - start_state[2])\n",
    "         \n",
    "#     error[-6] = inital_weight*(q[0,0] - 0)\n",
    "#     error[-5] = inital_weight*(q[1,0] - 0)\n",
    "#     error[-4] = inital_weight*(q[2,0] - 0)\n",
    "    \n",
    "#     error[-3] = final_weight*(q[0,-1] - end_state[0])\n",
    "#     error[-2] = final_weight*(q[1,-1] - end_state[1])\n",
    "#     error[-1] = final_weight*(q[2,-1] - end_state[2])\n",
    "#     print('error', error)\n",
    "#     print('------------------------------')\n",
    "    \n",
    "#     return np.sum(error_all*error_all)\n",
    "    return error_all"
   ]
  },
  {
   "cell_type": "code",
   "execution_count": 154,
   "metadata": {},
   "outputs": [
    {
     "name": "stdout",
     "output_type": "stream",
     "text": [
      "Iteration limit reached    (Exit mode 9)\n",
      "            Current function value: nan\n",
      "            Iterations: 300\n",
      "            Function evaluations: 11804\n",
      "            Gradient evaluations: 300\n"
     ]
    }
   ],
   "source": [
    "######################\n",
    "#optimazation\n",
    "from time import time\n",
    "\n",
    "con = ({'type': 'eq', 'fun': system_dynamics})\n",
    "\n",
    "# tic = time()\n",
    "sol = minimize(cost_function, state, args=(nt, dt), method='slsqp', jac=None, hess=None, hessp=None, bounds=None, constraints=con, tol=1e-9, callback=None, options={'disp':True, 'maxiter': 300})\n",
    "# elasped_time = time() - tic\n",
    "# print(\"elasped_time: \", elasped_time)\n",
    "opt = sol.x.reshape((4,nt))"
   ]
  },
  {
   "cell_type": "code",
   "execution_count": 155,
   "metadata": {},
   "outputs": [
    {
     "data": {
      "image/png": "[encoded data removed]",
      "text/plain": [
       "<Figure size 600x400 with 1 Axes>"
      ]
     },
     "metadata": {},
     "output_type": "display_data"
    }
   ],
   "source": [
    "plt.figure(dpi=100,facecolor='w')\n",
    "plt.plot(opt[0,:],opt[1,:], color = 'b')\n",
    "\n",
    "plt.plot(xsubs, ysubs)\n",
    "plt.title('Optimized Trajectory')\n",
    "plt.gca().set_aspect('equal', adjustable='box')\n",
    "# plt.axvline(np.median(x_check), color='g', label='axvline - full height')\n",
    "plt.xlabel('x')\n",
    "plt.ylabel('y')\n",
    "plt.grid(True)\n",
    "plt.show()"
   ]
  },
  {
   "cell_type": "code",
   "execution_count": null,
   "metadata": {},
   "outputs": [],
   "source": []
  }
 ],
 "metadata": {
  "kernelspec": {
   "display_name": "Python 3",
   "language": "python",
   "name": "python3"
  },
  "language_info": {
   "codemirror_mode": {
    "name": "ipython",
    "version": 3
   },
   "file_extension": ".py",
   "mimetype": "text/x-python",
   "name": "python",
   "nbconvert_exporter": "python",
   "pygments_lexer": "ipython3",
   "version": "3.8.10"
  }
 },
 "nbformat": 4,
 "nbformat_minor": 4
}
