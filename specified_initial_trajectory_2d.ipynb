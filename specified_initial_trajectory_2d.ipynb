{
 "cells": [
  {
   "cell_type": "code",
   "execution_count": 1,
   "metadata": {},
   "outputs": [],
   "source": [
    "# imports and function definitions\n",
    "import numpy as np\n",
    "import sympy as sym\n",
    "from scipy.integrate import solve_bvp # solve boundary value problem\n",
    "from scipy.integrate import solve_ivp # solve initial value problem\n",
    "from scipy.optimize import minimize\n",
    "from scipy.linalg import norm\n",
    "import math\n",
    "pi = math.pi\n",
    "%matplotlib inline \n",
    "import matplotlib.pyplot as plt\n",
    "from IPython.display import Image\n",
    "import math"
   ]
  },
  {
   "cell_type": "code",
   "execution_count": 2,
   "metadata": {},
   "outputs": [],
   "source": [
    "nt = 101\n",
    "T = 1\n",
    "dt = T/(nt-1)\n",
    "time = np.linspace(-1,T,nt)"
   ]
  },
  {
   "cell_type": "code",
   "execution_count": 3,
   "metadata": {},
   "outputs": [],
   "source": [
    "def dynamics_2d(t, q, u):\n",
    "    q1, q2, q3 = q \n",
    "    dq1dt = np.cos(q3)\n",
    "    dq2dt = np.sin(q3)\n",
    "    dq3dt = u(t)\n",
    "\n",
    "    dqdt = [dq1dt, dq2dt, dq3dt]\n",
    "    return dqdt"
   ]
  },
  {
   "cell_type": "code",
   "execution_count": 4,
   "metadata": {},
   "outputs": [
    {
     "data": {
      "text/plain": [
       "[<matplotlib.lines.Line2D at 0x7f2981586d60>]"
      ]
     },
     "execution_count": 4,
     "metadata": {},
     "output_type": "execute_result"
    },
    {
     "data": {
      "image/png": "[encoded data removed]",
      "text/plain": [
       "<Figure size 432x288 with 1 Axes>"
      ]
     },
     "metadata": {
      "needs_background": "light"
     },
     "output_type": "display_data"
    }
   ],
   "source": [
    "### desired initial trajectory y = x^2, should be a \n",
    "q1 = np.linspace(0,T,nt)\n",
    "# q3 = np.random.normal(0,0.01,nt)\n",
    "q3 = q1**2 - np.sin(q1)\n",
    "q2 = q1**2 + np.cos(q3)\n",
    "\n",
    "plt.plot(q1,q2)"
   ]
  },
  {
   "cell_type": "code",
   "execution_count": 5,
   "metadata": {},
   "outputs": [
    {
     "data": {
      "text/plain": [
       "array([ 0.01      ,  1.000051  , -0.00989983])"
      ]
     },
     "execution_count": 5,
     "metadata": {},
     "output_type": "execute_result"
    }
   ],
   "source": [
    "q0_flatten1d = np.vstack((q1[1],q2[1],q3[1])).flatten()\n",
    "q0_flatten1d"
   ]
  },
  {
   "cell_type": "code",
   "execution_count": 6,
   "metadata": {},
   "outputs": [
    {
     "data": {
      "text/plain": [
       "array([ 0.        , -0.00969883, -0.00949683, -0.00929383, -0.00908984,\n",
       "       -0.00888484, -0.00867884, -0.00847185, -0.00826386, -0.00805487,\n",
       "       -0.00784488, -0.00763391, -0.00742194, -0.00720897, -0.00699502,\n",
       "       -0.00678007, -0.00656414, -0.00634722, -0.00612932, -0.00591044,\n",
       "       -0.00569057, -0.00546972, -0.0052479 , -0.0050251 , -0.00480133,\n",
       "       -0.00457659, -0.00435088, -0.00412421, -0.00389658, -0.00366798,\n",
       "       -0.00343843, -0.00320792, -0.00297647, -0.00274406, -0.00251072,\n",
       "       -0.00227643, -0.0020412 , -0.00180504, -0.00156795, -0.00132993,\n",
       "       -0.00109099, -0.00085113, -0.00061035, -0.00036866, -0.00012607,\n",
       "        0.00011743,  0.00036182,  0.00060711,  0.00085329,  0.00110035,\n",
       "        0.00134829,  0.00159711,  0.0018468 ,  0.00209735,  0.00234876,\n",
       "        0.00260103,  0.00285415,  0.00310811,  0.00336291,  0.00361855,\n",
       "        0.00387501,  0.0041323 ,  0.0043904 ,  0.00464932,  0.00490904,\n",
       "        0.00516955,  0.00543086,  0.00569296,  0.00595584,  0.00621949,\n",
       "        0.00648392,  0.0067491 ,  0.00701504,  0.00728172,  0.00754915,\n",
       "        0.00781731,  0.00808621,  0.00835582,  0.00862615,  0.00889718,\n",
       "        0.00916892,  0.00944134,  0.00971446,  0.00998825,  0.01026271,\n",
       "        0.01053784,  0.01081363,  0.01109006,  0.01136713,  0.01164484,\n",
       "        0.01192317,  0.01220212,  0.01248168,  0.01276184,  0.0130426 ,\n",
       "        0.01332394,  0.01360585,  0.01388834,  0.01417139,  0.01445499,\n",
       "        0.        ])"
      ]
     },
     "execution_count": 6,
     "metadata": {},
     "output_type": "execute_result"
    }
   ],
   "source": [
    "u = np.zeros(len(q1))\n",
    "for i in range(len(q1)-1):\n",
    "    if i == 0:\n",
    "        u[0] = 0\n",
    "    else:\n",
    "        u[i] = q3[i+1] - q3[i]  \n",
    "u"
   ]
  },
  {
   "cell_type": "code",
   "execution_count": 7,
   "metadata": {},
   "outputs": [
    {
     "name": "stderr",
     "output_type": "stream",
     "text": [
      "<ipython-input-7-2294c9ae4323>:13: UserWarning: Matplotlib is currently using module://ipykernel.pylab.backend_inline, which is a non-GUI backend, so cannot show the figure.\n",
      "  fig.show()\n"
     ]
    },
    {
     "data": {
      "image/png": "[encoded data removed]",
      "text/plain": [
       "<Figure size 432x288 with 1 Axes>"
      ]
     },
     "metadata": {
      "needs_background": "light"
     },
     "output_type": "display_data"
    }
   ],
   "source": [
    "from matplotlib.pyplot import subplots\n",
    "from numpy import linspace, random, sin, cos\n",
    "from scipy import interpolate\n",
    "\n",
    "# fit spline\n",
    "spl = interpolate.InterpolatedUnivariateSpline(time, u)\n",
    "fitx = linspace(-1, time.max(), 100)\n",
    "\n",
    "fig, ax = subplots()\n",
    "ax.scatter(time, u)\n",
    "\n",
    "ax.plot(fitx, spl(fitx))\n",
    "fig.show()"
   ]
  },
  {
   "cell_type": "code",
   "execution_count": 8,
   "metadata": {},
   "outputs": [
    {
     "data": {
      "text/plain": [
       "array(0.01192317)"
      ]
     },
     "execution_count": 8,
     "metadata": {},
     "output_type": "execute_result"
    }
   ],
   "source": [
    "spl(0.8)"
   ]
  },
  {
   "cell_type": "code",
   "execution_count": 9,
   "metadata": {},
   "outputs": [],
   "source": [
    "sim = solve_ivp(lambda t, y: dynamics_2d(t,y,spl), [time[0], time[-1]], q0_flatten1d, t_eval=time)"
   ]
  },
  {
   "cell_type": "code",
   "execution_count": 10,
   "metadata": {},
   "outputs": [
    {
     "data": {
      "text/plain": [
       "array([0.01      , 0.02999901, 0.04999799, 0.06999693, 0.08999582,\n",
       "       0.10999469, 0.12999351, 0.14999229, 0.16999104, 0.18998975,\n",
       "       0.20998842, 0.22998706, 0.24998566, 0.26998422, 0.28998275,\n",
       "       0.30998125, 0.32997971, 0.34997814, 0.36997654, 0.3899749 ,\n",
       "       0.40997324, 0.42997155, 0.44996983, 0.46996808, 0.4899663 ,\n",
       "       0.5099645 , 0.52996267, 0.54996082, 0.56995895, 0.58995706,\n",
       "       0.60995514, 0.62995321, 0.64995126, 0.66994929, 0.68994731,\n",
       "       0.70994531, 0.7299433 , 0.74994128, 0.76993924, 0.7899372 ,\n",
       "       0.80993515, 0.82993309, 0.84993103, 0.86992897, 0.8899269 ,\n",
       "       0.90992484, 0.92992277, 0.94992071, 0.96991865, 0.9899166 ,\n",
       "       1.00991455, 1.02991251, 1.04991048, 1.06990846, 1.08990645,\n",
       "       1.10990446, 1.12990248, 1.14990051, 1.16989857, 1.18989664,\n",
       "       1.20989473, 1.22989284, 1.24989097, 1.26988913, 1.28988731,\n",
       "       1.30988552, 1.32988376, 1.34988203, 1.36988032, 1.38987865,\n",
       "       1.40987701, 1.4298754 , 1.44987383, 1.46987229, 1.48987078,\n",
       "       1.50986932, 1.52986789, 1.5498665 , 1.56986515, 1.58986384,\n",
       "       1.60986257, 1.62986134, 1.64986015, 1.669859  , 1.6898579 ,\n",
       "       1.70985684, 1.72985582, 1.74985485, 1.76985391, 1.78985303,\n",
       "       1.80985218, 1.82985138, 1.84985062, 1.86984991, 1.88984923,\n",
       "       1.9098486 , 1.92984801, 1.94984746, 1.96984695, 1.98984649,\n",
       "       2.00984606])"
      ]
     },
     "metadata": {},
     "output_type": "display_data"
    }
   ],
   "source": [
    "display(sim.y[0])"
   ]
  },
  {
   "cell_type": "code",
   "execution_count": 11,
   "metadata": {},
   "outputs": [
    {
     "data": {
      "image/png": "[encoded data removed]",
      "text/plain": [
       "<Figure size 600x400 with 1 Axes>"
      ]
     },
     "metadata": {},
     "output_type": "display_data"
    }
   ],
   "source": [
    "plt.figure(dpi=100,facecolor='w')\n",
    "plt.plot(sim.y[0],sim.y[1])\n",
    "axes = plt.gca()\n",
    "# axes.set_xlim([-1.,1])\n",
    "# axes.set_ylim([0.8,2])\n",
    "plt.title('rod')\n",
    "plt.xlabel('x')\n",
    "plt.ylabel('y')\n",
    "plt.grid(True)\n",
    "plt.show()"
   ]
  },
  {
   "cell_type": "code",
   "execution_count": 12,
   "metadata": {},
   "outputs": [
    {
     "name": "stdout",
     "output_type": "stream",
     "text": [
      "2.0098460558730795\n",
      "0.9755791856213046\n",
      "-0.0065006650766584115\n"
     ]
    }
   ],
   "source": [
    "u0 = u\n",
    "sim.y.shape\n",
    "u0 = u0.reshape((1,nt))\n",
    "state_initials = np.vstack((sim.y, u0))\n",
    "print(sim.y[0,-1])\n",
    "print(sim.y[1,-1])\n",
    "print(sim.y[2,-1])"
   ]
  },
  {
   "cell_type": "code",
   "execution_count": 13,
   "metadata": {},
   "outputs": [
    {
     "name": "stdout",
     "output_type": "stream",
     "text": [
      "1.0 1.9874605698734804 0.1585290151921035\n"
     ]
    }
   ],
   "source": [
    "P = 500\n",
    "xd, yd, zd = q1[-1], q2[-1], q3[-1]\n",
    "print(xd, yd, zd)"
   ]
  },
  {
   "cell_type": "code",
   "execution_count": 14,
   "metadata": {},
   "outputs": [],
   "source": [
    "def cost_function(state_initials, nt, dt, P, xd, yd, zd):\n",
    "    state_initials = state_initials.reshape((4,nt))\n",
    "    running_cost = np.zeros((1,nt))\n",
    "    # print(state_initials.shape)\n",
    "    for i in range(nt):\n",
    "        running_cost[0, i] = dt*0.5*state_initials[-1,i]\n",
    "    final_cost = P*(abs(state_initials[0,-1]-xd) + abs(state_initials[1,-1]-yd) + abs(state_initials[2,-1]-zd))\n",
    "    cost = np.sum(running_cost) + final_cost\n",
    "    return cost"
   ]
  },
  {
   "cell_type": "code",
   "execution_count": 15,
   "metadata": {},
   "outputs": [],
   "source": [
    "def system_dynamics(state_initials):\n",
    "    P = 600\n",
    "    nt = 101\n",
    "    dt = 1/(nt-1)\n",
    "    xd = 1.0\n",
    "    yd = 1.9874605698734804\n",
    "    zd = 0.1585290151921035\n",
    "    state_initials = state_initials.reshape((4,nt))\n",
    "    q = state_initials[0:3,:]\n",
    "    u = state_initials[-1,:]\n",
    "    u = u.reshape(1,nt)\n",
    "    error = np.zeros((1, 4*nt))\n",
    "    final_weight = 1\n",
    "    initial_weight = 1\n",
    "    j = 0\n",
    "    \n",
    "    for i in range(nt-1):\n",
    "        error[:,j] = q[0, i+1] - (q[0,i]) + dt*np.cos(q[2,i])\n",
    "        error[:,j+1] = q[1, i+1] - (q[1,i]) + dt*np.sin(q[2,i])\n",
    "        error[:,j+2] = q[2, i+1] - (q[2,i]) + dt*u[:,i]\n",
    "        \n",
    "        j = j+3\n",
    "        \n",
    "    error[:,j] = inital_weight*(q[0,0] - state_initials[0, 0])\n",
    "    error[:,j+1] = inital_weight*(q[1,0] - state_initials[0, 0]) \n",
    "    error[:,j+2] = inital_weight*(q[2,0] - state_initials[0, 0])\n",
    "    \n",
    "    pos_error = np.absolute(error)\n",
    "    \n",
    "        \n",
    "\n",
    "    return pos_error.flatten()"
   ]
  },
  {
   "cell_type": "code",
   "execution_count": 16,
   "metadata": {},
   "outputs": [
    {
     "ename": "NameError",
     "evalue": "name 'inital_weight' is not defined",
     "output_type": "error",
     "traceback": [
      "\u001b[0;31m---------------------------------------------------------------------------\u001b[0m",
      "\u001b[0;31mNameError\u001b[0m                                 Traceback (most recent call last)",
      "\u001b[0;32m<ipython-input-16-ea3d7d53d2df>\u001b[0m in \u001b[0;36m<module>\u001b[0;34m\u001b[0m\n\u001b[1;32m      1\u001b[0m \u001b[0mcon\u001b[0m \u001b[0;34m=\u001b[0m \u001b[0;34m(\u001b[0m\u001b[0;34m{\u001b[0m\u001b[0;34m'type'\u001b[0m\u001b[0;34m:\u001b[0m \u001b[0;34m'eq'\u001b[0m\u001b[0;34m,\u001b[0m \u001b[0;34m'fun'\u001b[0m\u001b[0;34m:\u001b[0m \u001b[0msystem_dynamics\u001b[0m\u001b[0;34m}\u001b[0m\u001b[0;34m)\u001b[0m\u001b[0;34m\u001b[0m\u001b[0;34m\u001b[0m\u001b[0m\n\u001b[0;32m----> 2\u001b[0;31m \u001b[0msol\u001b[0m \u001b[0;34m=\u001b[0m \u001b[0mminimize\u001b[0m\u001b[0;34m(\u001b[0m\u001b[0mcost_function\u001b[0m\u001b[0;34m,\u001b[0m \u001b[0mstate_initials\u001b[0m\u001b[0;34m,\u001b[0m \u001b[0margs\u001b[0m\u001b[0;34m=\u001b[0m\u001b[0;34m(\u001b[0m\u001b[0mnt\u001b[0m\u001b[0;34m,\u001b[0m \u001b[0mdt\u001b[0m\u001b[0;34m,\u001b[0m\u001b[0mP\u001b[0m\u001b[0;34m,\u001b[0m \u001b[0mxd\u001b[0m\u001b[0;34m,\u001b[0m \u001b[0myd\u001b[0m\u001b[0;34m,\u001b[0m \u001b[0mzd\u001b[0m\u001b[0;34m)\u001b[0m\u001b[0;34m,\u001b[0m \u001b[0mmethod\u001b[0m\u001b[0;34m=\u001b[0m\u001b[0;32mNone\u001b[0m\u001b[0;34m,\u001b[0m \u001b[0mjac\u001b[0m\u001b[0;34m=\u001b[0m\u001b[0;32mNone\u001b[0m\u001b[0;34m,\u001b[0m \u001b[0mhess\u001b[0m\u001b[0;34m=\u001b[0m\u001b[0;32mNone\u001b[0m\u001b[0;34m,\u001b[0m \u001b[0mhessp\u001b[0m\u001b[0;34m=\u001b[0m\u001b[0;32mNone\u001b[0m\u001b[0;34m,\u001b[0m \u001b[0mbounds\u001b[0m\u001b[0;34m=\u001b[0m\u001b[0;32mNone\u001b[0m\u001b[0;34m,\u001b[0m \u001b[0mconstraints\u001b[0m\u001b[0;34m=\u001b[0m\u001b[0mcon\u001b[0m\u001b[0;34m,\u001b[0m \u001b[0mtol\u001b[0m\u001b[0;34m=\u001b[0m\u001b[0;36m1e-3\u001b[0m\u001b[0;34m,\u001b[0m \u001b[0mcallback\u001b[0m\u001b[0;34m=\u001b[0m\u001b[0;32mNone\u001b[0m\u001b[0;34m,\u001b[0m \u001b[0moptions\u001b[0m\u001b[0;34m=\u001b[0m\u001b[0;32mNone\u001b[0m\u001b[0;34m)\u001b[0m\u001b[0;34m\u001b[0m\u001b[0;34m\u001b[0m\u001b[0m\n\u001b[0m",
      "\u001b[0;32m~/.local/lib/python3.8/site-packages/scipy/optimize/_minimize.py\u001b[0m in \u001b[0;36mminimize\u001b[0;34m(fun, x0, args, method, jac, hess, hessp, bounds, constraints, tol, callback, options)\u001b[0m\n\u001b[1;32m    623\u001b[0m         \u001b[0;32mreturn\u001b[0m \u001b[0m_minimize_cobyla\u001b[0m\u001b[0;34m(\u001b[0m\u001b[0mfun\u001b[0m\u001b[0;34m,\u001b[0m \u001b[0mx0\u001b[0m\u001b[0;34m,\u001b[0m \u001b[0margs\u001b[0m\u001b[0;34m,\u001b[0m \u001b[0mconstraints\u001b[0m\u001b[0;34m,\u001b[0m \u001b[0;34m**\u001b[0m\u001b[0moptions\u001b[0m\u001b[0;34m)\u001b[0m\u001b[0;34m\u001b[0m\u001b[0;34m\u001b[0m\u001b[0m\n\u001b[1;32m    624\u001b[0m     \u001b[0;32melif\u001b[0m \u001b[0mmeth\u001b[0m \u001b[0;34m==\u001b[0m \u001b[0;34m'slsqp'\u001b[0m\u001b[0;34m:\u001b[0m\u001b[0;34m\u001b[0m\u001b[0;34m\u001b[0m\u001b[0m\n\u001b[0;32m--> 625\u001b[0;31m         return _minimize_slsqp(fun, x0, args, jac, bounds,\n\u001b[0m\u001b[1;32m    626\u001b[0m                                constraints, callback=callback, **options)\n\u001b[1;32m    627\u001b[0m     \u001b[0;32melif\u001b[0m \u001b[0mmeth\u001b[0m \u001b[0;34m==\u001b[0m \u001b[0;34m'trust-constr'\u001b[0m\u001b[0;34m:\u001b[0m\u001b[0;34m\u001b[0m\u001b[0;34m\u001b[0m\u001b[0m\n",
      "\u001b[0;32m~/.local/lib/python3.8/site-packages/scipy/optimize/slsqp.py\u001b[0m in \u001b[0;36m_minimize_slsqp\u001b[0;34m(func, x0, args, jac, bounds, constraints, maxiter, ftol, iprint, disp, eps, callback, finite_diff_rel_step, **unknown_options)\u001b[0m\n\u001b[1;32m    320\u001b[0m     \u001b[0;31m# Set the parameters that SLSQP will need\u001b[0m\u001b[0;34m\u001b[0m\u001b[0;34m\u001b[0m\u001b[0;34m\u001b[0m\u001b[0m\n\u001b[1;32m    321\u001b[0m     \u001b[0;31m# meq, mieq: number of equality and inequality constraints\u001b[0m\u001b[0;34m\u001b[0m\u001b[0;34m\u001b[0m\u001b[0;34m\u001b[0m\u001b[0m\n\u001b[0;32m--> 322\u001b[0;31m     meq = sum(map(len, [atleast_1d(c['fun'](x, *c['args']))\n\u001b[0m\u001b[1;32m    323\u001b[0m               for c in cons['eq']]))\n\u001b[1;32m    324\u001b[0m     mieq = sum(map(len, [atleast_1d(c['fun'](x, *c['args']))\n",
      "\u001b[0;32m~/.local/lib/python3.8/site-packages/scipy/optimize/slsqp.py\u001b[0m in \u001b[0;36m<listcomp>\u001b[0;34m(.0)\u001b[0m\n\u001b[1;32m    320\u001b[0m     \u001b[0;31m# Set the parameters that SLSQP will need\u001b[0m\u001b[0;34m\u001b[0m\u001b[0;34m\u001b[0m\u001b[0;34m\u001b[0m\u001b[0m\n\u001b[1;32m    321\u001b[0m     \u001b[0;31m# meq, mieq: number of equality and inequality constraints\u001b[0m\u001b[0;34m\u001b[0m\u001b[0;34m\u001b[0m\u001b[0;34m\u001b[0m\u001b[0m\n\u001b[0;32m--> 322\u001b[0;31m     meq = sum(map(len, [atleast_1d(c['fun'](x, *c['args']))\n\u001b[0m\u001b[1;32m    323\u001b[0m               for c in cons['eq']]))\n\u001b[1;32m    324\u001b[0m     mieq = sum(map(len, [atleast_1d(c['fun'](x, *c['args']))\n",
      "\u001b[0;32m<ipython-input-15-03c4157893c8>\u001b[0m in \u001b[0;36msystem_dynamics\u001b[0;34m(state_initials)\u001b[0m\n\u001b[1;32m     22\u001b[0m         \u001b[0mj\u001b[0m \u001b[0;34m=\u001b[0m \u001b[0mj\u001b[0m\u001b[0;34m+\u001b[0m\u001b[0;36m3\u001b[0m\u001b[0;34m\u001b[0m\u001b[0;34m\u001b[0m\u001b[0m\n\u001b[1;32m     23\u001b[0m \u001b[0;34m\u001b[0m\u001b[0m\n\u001b[0;32m---> 24\u001b[0;31m     \u001b[0merror\u001b[0m\u001b[0;34m[\u001b[0m\u001b[0;34m:\u001b[0m\u001b[0;34m,\u001b[0m\u001b[0mj\u001b[0m\u001b[0;34m]\u001b[0m \u001b[0;34m=\u001b[0m \u001b[0minital_weight\u001b[0m\u001b[0;34m*\u001b[0m\u001b[0;34m(\u001b[0m\u001b[0mq\u001b[0m\u001b[0;34m[\u001b[0m\u001b[0;36m0\u001b[0m\u001b[0;34m,\u001b[0m\u001b[0;36m0\u001b[0m\u001b[0;34m]\u001b[0m \u001b[0;34m-\u001b[0m \u001b[0mstate_initials\u001b[0m\u001b[0;34m[\u001b[0m\u001b[0;36m0\u001b[0m\u001b[0;34m,\u001b[0m \u001b[0;36m0\u001b[0m\u001b[0;34m]\u001b[0m\u001b[0;34m)\u001b[0m\u001b[0;34m\u001b[0m\u001b[0;34m\u001b[0m\u001b[0m\n\u001b[0m\u001b[1;32m     25\u001b[0m     \u001b[0merror\u001b[0m\u001b[0;34m[\u001b[0m\u001b[0;34m:\u001b[0m\u001b[0;34m,\u001b[0m\u001b[0mj\u001b[0m\u001b[0;34m+\u001b[0m\u001b[0;36m1\u001b[0m\u001b[0;34m]\u001b[0m \u001b[0;34m=\u001b[0m \u001b[0minital_weight\u001b[0m\u001b[0;34m*\u001b[0m\u001b[0;34m(\u001b[0m\u001b[0mq\u001b[0m\u001b[0;34m[\u001b[0m\u001b[0;36m1\u001b[0m\u001b[0;34m,\u001b[0m\u001b[0;36m0\u001b[0m\u001b[0;34m]\u001b[0m \u001b[0;34m-\u001b[0m \u001b[0mstate_initials\u001b[0m\u001b[0;34m[\u001b[0m\u001b[0;36m0\u001b[0m\u001b[0;34m,\u001b[0m \u001b[0;36m0\u001b[0m\u001b[0;34m]\u001b[0m\u001b[0;34m)\u001b[0m\u001b[0;34m\u001b[0m\u001b[0;34m\u001b[0m\u001b[0m\n\u001b[1;32m     26\u001b[0m     \u001b[0merror\u001b[0m\u001b[0;34m[\u001b[0m\u001b[0;34m:\u001b[0m\u001b[0;34m,\u001b[0m\u001b[0mj\u001b[0m\u001b[0;34m+\u001b[0m\u001b[0;36m2\u001b[0m\u001b[0;34m]\u001b[0m \u001b[0;34m=\u001b[0m \u001b[0minital_weight\u001b[0m\u001b[0;34m*\u001b[0m\u001b[0;34m(\u001b[0m\u001b[0mq\u001b[0m\u001b[0;34m[\u001b[0m\u001b[0;36m2\u001b[0m\u001b[0;34m,\u001b[0m\u001b[0;36m0\u001b[0m\u001b[0;34m]\u001b[0m \u001b[0;34m-\u001b[0m \u001b[0mstate_initials\u001b[0m\u001b[0;34m[\u001b[0m\u001b[0;36m0\u001b[0m\u001b[0;34m,\u001b[0m \u001b[0;36m0\u001b[0m\u001b[0;34m]\u001b[0m\u001b[0;34m)\u001b[0m\u001b[0;34m\u001b[0m\u001b[0;34m\u001b[0m\u001b[0m\n",
      "\u001b[0;31mNameError\u001b[0m: name 'inital_weight' is not defined"
     ]
    }
   ],
   "source": [
    "con = ({'type': 'eq', 'fun': system_dynamics})\n",
    "sol = minimize(cost_function, state_initials, args=(nt, dt,P, xd, yd, zd), method=None, jac=None, hess=None, hessp=None, bounds=None, constraints=con, tol=1e-3, callback=None, options=None)"
   ]
  },
  {
   "cell_type": "code",
   "execution_count": null,
   "metadata": {},
   "outputs": [],
   "source": [
    "opt = sol.x.reshape((4,nt))\n",
    "plt.figure(dpi=100,facecolor='w')\n",
    "plt.plot(opt[0,:],opt[1,:])\n",
    "axes = plt.gca()\n",
    "# axes.set_xlim([-1,1])\n",
    "# axes.set_ylim([-5,5])\n",
    "plt.title('Optimized Trajectory')\n",
    "plt.xlabel('x')\n",
    "plt.ylabel('y')\n",
    "plt.grid(True)\n",
    "plt.show()\n",
    "print(\"x = \", opt[0,-1], \", y = \", opt[1,-1], \", theta = \", opt[2,-1]) \n",
    "print(\"xd = \", xd, \", yd = \", yd, \", thetad = \", zd) "
   ]
  },
  {
   "cell_type": "code",
   "execution_count": null,
   "metadata": {},
   "outputs": [],
   "source": []
  }
 ],
 "metadata": {
  "kernelspec": {
   "display_name": "Python 3",
   "language": "python",
   "name": "python3"
  },
  "language_info": {
   "codemirror_mode": {
    "name": "ipython",
    "version": 3
   },
   "file_extension": ".py",
   "mimetype": "text/x-python",
   "name": "python",
   "nbconvert_exporter": "python",
   "pygments_lexer": "ipython3",
   "version": "3.8.10"
  }
 },
 "nbformat": 4,
 "nbformat_minor": 4
}
