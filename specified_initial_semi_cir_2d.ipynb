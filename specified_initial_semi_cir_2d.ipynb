{
 "cells": [
  {
   "cell_type": "code",
   "execution_count": 118,
   "metadata": {},
   "outputs": [],
   "source": [
    "import numpy as np\n",
    "import sympy as sym\n",
    "from scipy.integrate import solve_bvp # solve boundary value problem\n",
    "from scipy.integrate import solve_ivp # solve initial value problem\n",
    "from scipy.optimize import minimize\n",
    "from scipy.linalg import norm\n",
    "import scipy\n",
    "import math\n",
    "pi = math.pi\n",
    "%matplotlib inline \n",
    "import matplotlib.pyplot as plt\n",
    "from IPython.display import Image\n",
    "from math import *\n",
    "from scipy.interpolate import CubicSpline\n",
    "from numba import jit, prange"
   ]
  },
  {
   "cell_type": "code",
   "execution_count": 119,
   "metadata": {},
   "outputs": [],
   "source": [
    "nt = 7\n",
    "T = 1\n",
    "dt = T/(nt-1)\n",
    "time = np.linspace(-1,T,nt)"
   ]
  },
  {
   "cell_type": "code",
   "execution_count": 120,
   "metadata": {},
   "outputs": [],
   "source": [
    "def dynamics_2d(t, q, u):\n",
    "    q1, q2, q3 = q \n",
    "    dq1dt = np.cos(q3)\n",
    "    dq2dt = np.sin(q3)\n",
    "    dq3dt = u(t)\n",
    "\n",
    "    dqdt = [dq1dt, dq2dt, dq3dt]\n",
    "    return dqdt"
   ]
  },
  {
   "cell_type": "code",
   "execution_count": 121,
   "metadata": {},
   "outputs": [
    {
     "name": "stdout",
     "output_type": "stream",
     "text": [
      "x value [0.         0.05305165 0.1061033  0.15915494 0.21220659 0.26525824\n",
      " 0.31830989]\n",
      "y value [ 0.00000000e+00  7.22222222e-01  1.27777778e+00  1.50000000e+00\n",
      "  1.27777778e+00  7.22222222e-01 -3.33066907e-16]\n"
     ]
    },
    {
     "data": {
      "image/png": "[encoded data removed]",
      "text/plain": [
       "<Figure size 432x288 with 1 Axes>"
      ]
     },
     "metadata": {
      "needs_background": "light"
     },
     "output_type": "display_data"
    }
   ],
   "source": [
    "r = 0.5\n",
    "x = np.linspace(0,1/pi,nt)\n",
    "x_inter = [0,np.median(x),x[-1]]\n",
    "# y_inter = [0, np.sqrt(1-np.median(x)),0]\n",
    "# y_inter = [0, np.sqrt(1-np.median(x))*0.5,0]\n",
    "y_inter = [0, 1.5 ,0]\n",
    "f = CubicSpline(x_inter, y_inter, bc_type='natural')\n",
    "# f = CubicSpline(x_inter, y_inter, bc_type='clamped')\n",
    "y = f(x)\n",
    "plt.plot(x,y)\n",
    "\n",
    "\n",
    "#### for theta calculating\n",
    "x2 = np.linspace(0,1/pi,(nt+2))\n",
    "y2 = f(x2)\n",
    "\n",
    "print('x value', x)\n",
    "print('y value', y)"
   ]
  },
  {
   "cell_type": "code",
   "execution_count": 122,
   "metadata": {},
   "outputs": [
    {
     "name": "stdout",
     "output_type": "stream",
     "text": [
      "[ 0.          1.49747189  1.47559205  1.33645024 -1.33645024 -1.47559205\n",
      " -1.49747189]\n",
      "[  8.98483135  -0.13127907  -0.83485085 -16.03740287  -0.83485085\n",
      "  -0.13127907   0.        ]\n"
     ]
    }
   ],
   "source": [
    "###### worked version\n",
    "theta = np.zeros(nt)\n",
    "for i in range(nt-1):\n",
    "    dx = x[i+1] - x[i]\n",
    "    dy = y[i+1] - y[i]\n",
    "    theta[i+1] = atan2(dy,dx)\n",
    "##### u should be size one less than theta, x andy y\n",
    "u = np.zeros(nt)\n",
    "for i in range(nt-1):\n",
    "    u[i] = (theta[i+1] - theta[i])/dt\n",
    "\n",
    "print(theta)\n",
    "# u[-1] = u[0]\n",
    "print(u)\n",
    "\n",
    "\n",
    "\n",
    "\n",
    "\n",
    "# ##### tried version1\n",
    "# theta = np.zeros(nt)\n",
    "# for i in range(nt-1):\n",
    "#     dx = x[i+1] - x[i]\n",
    "#     dy = y[i+1] - y[i]\n",
    "#     theta[i] = atan2(dy,dx)\n",
    "\n",
    "\n",
    "# ##### u should be size one less than theta, x andy y\n",
    "# u = np.zeros(nt)\n",
    "# for i in range(nt-2):\n",
    "#     u[i] = (theta[i+1] - theta[i])/dt\n",
    "\n",
    "# print(theta)\n",
    "# print(u)\n",
    "\n",
    "\n",
    "# ###### tried version2\n",
    "# theta = np.zeros(nt+2)\n",
    "# for i in range(nt+1):\n",
    "#     dx = x2[i+1] - x2[i]\n",
    "#     dy = y2[i+1] - y2[i]\n",
    "#     theta[i+1] = atan2(dy,dx)\n",
    "\n",
    "# ##### u should be size one less than theta, x andy y\n",
    "# u = np.zeros(nt)\n",
    "# theta = theta[1:]\n",
    "\n",
    "# for i in range(nt):\n",
    "#     u[i] = (theta[i+1] - theta[i])/dt\n",
    "\n",
    "# print(theta)\n",
    "# # u[-1] = u[0]\n",
    "# print(u)\n",
    "\n",
    "\n",
    "\n"
   ]
  },
  {
   "cell_type": "code",
   "execution_count": 123,
   "metadata": {},
   "outputs": [
    {
     "data": {
      "text/plain": [
       "[<matplotlib.lines.Line2D at 0x7f02166184c0>]"
      ]
     },
     "execution_count": 123,
     "metadata": {},
     "output_type": "execute_result"
    },
    {
     "data": {
      "image/png": "[encoded data removed]",
      "text/plain": [
       "<Figure size 432x288 with 1 Axes>"
      ]
     },
     "metadata": {
      "needs_background": "light"
     },
     "output_type": "display_data"
    }
   ],
   "source": [
    "x_sim = np.zeros(len(x))\n",
    "y_sim = np.zeros(len(y))\n",
    "theta_sim = np.zeros(len(theta))\n",
    "for i in range(nt-1):\n",
    "        if i == 0:\n",
    "            x_sim[0], y_sim[0], theta_sim[0] = x[0], y[0], theta[0]\n",
    "\n",
    "\n",
    "        x_sim[i+1] = x_sim[i] +  dt*cos(theta_sim[i])\n",
    "        y_sim[i+1] = y_sim[i] +  dt*sin(theta_sim[i])\n",
    "        theta_sim[i+1] = theta_sim[i] + dt*u[i]\n",
    "\n",
    "\n",
    "\n",
    "plt.plot(x_sim, y_sim)\n",
    "    "
   ]
  },
  {
   "cell_type": "code",
   "execution_count": 124,
   "metadata": {},
   "outputs": [
    {
     "name": "stdout",
     "output_type": "stream",
     "text": [
      "[0.         0.16666667 0.17887646 0.19471988 0.23342105 0.27212221\n",
      " 0.28796563]\n",
      "[0.         0.         0.16621883 0.33213074 0.49424181 0.33213074\n",
      " 0.16621883]\n",
      "[ 0.          1.49747189  1.47559205  1.33645024 -1.33645024 -1.47559205\n",
      " -1.49747189]\n",
      "[  8.98483135  -0.13127907  -0.83485085 -16.03740287  -0.83485085\n",
      "  -0.13127907   0.        ]\n"
     ]
    }
   ],
   "source": [
    "# print(x_sim)\n",
    "# print(y_sim)\n",
    "# print(theta_sim)\n",
    "# print(u)"
   ]
  },
  {
   "cell_type": "code",
   "execution_count": null,
   "metadata": {},
   "outputs": [],
   "source": []
  },
  {
   "cell_type": "code",
   "execution_count": null,
   "metadata": {},
   "outputs": [],
   "source": []
  },
  {
   "cell_type": "code",
   "execution_count": null,
   "metadata": {},
   "outputs": [],
   "source": []
  },
  {
   "cell_type": "code",
   "execution_count": null,
   "metadata": {},
   "outputs": [],
   "source": []
  },
  {
   "cell_type": "code",
   "execution_count": null,
   "metadata": {},
   "outputs": [],
   "source": []
  },
  {
   "cell_type": "code",
   "execution_count": null,
   "metadata": {},
   "outputs": [],
   "source": []
  },
  {
   "cell_type": "code",
   "execution_count": 125,
   "metadata": {},
   "outputs": [
    {
     "name": "stdout",
     "output_type": "stream",
     "text": [
      "28.279492123420173\n"
     ]
    }
   ],
   "source": [
    "####### calculating the total energy along the rod\n",
    "E_before = dt*0.5*np.sum(u**2)\n",
    "print(E_before)"
   ]
  },
  {
   "cell_type": "code",
   "execution_count": 126,
   "metadata": {},
   "outputs": [],
   "source": [
    "# @jit(nopython=True)\n",
    "def cost_function(state_initials, nt, dt):\n",
    "    state_initials = state_initials.reshape((4,nt))\n",
    "    u_cost = state_initials[-1,0:-1]\n",
    "#     u_cost = state_initials[-1,:]\n",
    "    running_cost = np.zeros((len(u_cost)))\n",
    "    \n",
    "    for i in prange(len(u_cost)):\n",
    "        running_cost[i] = dt*0.5*(u_cost[i])**2\n",
    "    cost = np.sum(np.square(running_cost))\n",
    "    return cost"
   ]
  },
  {
   "cell_type": "code",
   "execution_count": 127,
   "metadata": {},
   "outputs": [],
   "source": [
    "# @jit(nopython=True, parallel=True)\n",
    "def cost_functiontry(state_initials, nt, dt):\n",
    "    state_initials = state_initials.reshape((4,nt))\n",
    "    u_cost = state_initials[-1,:]\n",
    "    running_cost = np.zeros((len(u_cost)))\n",
    "    \n",
    "    for i in prange(len(u_cost)):\n",
    "        running_cost[i] = dt*0.5*(u_cost[i])**2\n",
    "    cost = np.sum(np.square(running_cost))\n",
    "    return cost"
   ]
  },
  {
   "cell_type": "code",
   "execution_count": 128,
   "metadata": {},
   "outputs": [],
   "source": [
    "# @jit(nopython=True, parallel=True)\n",
    "def cost_function2(state_initials, nt, dt):\n",
    "    state_initials = state_initials.reshape((4,nt))\n",
    "#     u_cost = state_initials[-1,0:-1]\n",
    "    u_cost = state_initials[-1,:]\n",
    "    running_cost = np.zeros((len(u_cost)))\n",
    "    \n",
    "    for i in prange(len(u_cost)):\n",
    "        running_cost[i] = dt*0.5*(u_cost[i])**2\n",
    "    cost = np.sum(np.square(running_cost))\n",
    "    return cost"
   ]
  },
  {
   "cell_type": "code",
   "execution_count": 129,
   "metadata": {},
   "outputs": [],
   "source": [
    "u = u.reshape((1,nt))\n",
    "x = x.reshape((1,nt))\n",
    "y = y.reshape((1,nt))\n",
    "theta = theta.reshape((1,nt))\n",
    "state = np.vstack((x,y,theta,u))\n",
    "state_initials = state\n",
    "\n",
    "start_state = state_initials[0:3,0] \n",
    "end_state = state_initials[0:3,-1] \n",
    "bounds = np.zeros(6)\n",
    "# statewithcons = np.concatenate((state, bounds), axis = None)"
   ]
  },
  {
   "cell_type": "code",
   "execution_count": 130,
   "metadata": {},
   "outputs": [],
   "source": [
    "###### constriants from paper\n",
    "\n",
    "# @jit(nopython=True)\n",
    "def system_dynamics(state_initials):\n",
    "    state_initials = state_initials.reshape((4,nt))\n",
    "    q = state_initials[0:3,:]\n",
    "#     u = state_initials[-1,0:-1]\n",
    "#     u = u.reshape(1,(nt-1))\n",
    "    u = state_initials[-1,:]\n",
    "    u = u.reshape(1,(nt))\n",
    "    m,n = u.shape\n",
    "    \n",
    "#     error = np.zeros( 3*(nt-1) )\n",
    "    error = np.zeros( 3*(nt) )\n",
    "    initial_weight, final_weight = 1,1\n",
    "\n",
    "    for i in range(nt-1):\n",
    "        error[3*i] = (q[0, i+1] - q[0,i]) - dt*cos(q[2,i])\n",
    "        error[3*i+1] = (q[1, i+1] - q[1,i]) - dt*sin(q[2,i])\n",
    "        error[3*i+2] = (q[2, i+1] - q[2,i]) - dt*u[:,i]\n",
    "    \n",
    "#     print('before constriants', error)\n",
    "        \n",
    "        \n",
    "    \n",
    "#     error_bound = np.zeros(3*(nt-1))\n",
    "#     error_bound = np.zeros(3*(nt))\n",
    "#     error_bound[0] =  initial_weight*(q[0,0] - start_state[0])\n",
    "#     error_bound[1] = initial_weight*(q[1,0] - start_state[1])\n",
    "#     error_bound[2] = initial_weight*(q[2,0] - start_state[2])\n",
    "    \n",
    "#     error_bound[-3] = final_weight*(q[0,-1] - end_state[0])\n",
    "#     error_bound[-2] = final_weight*(q[1,-1] - end_state[1])\n",
    "#     error_bound[-1] = final_weight*(q[2,-1] - end_state[2])\n",
    "    error_initial = np.zeros(3)\n",
    "#     error[0] = error[0] + initial_weight*(q[0,0] - start_state[0])\n",
    "#     error[1] = error[1] + initial_weight*(q[1,0] - start_state[1])\n",
    "#     error[2] = error[2] + initial_weight*(q[2,0] - start_state[2])\n",
    "    error_initial[0] = initial_weight*(q[0,0] - start_state[0])\n",
    "    error_initial[1] = initial_weight*(q[1,0] - start_state[1])\n",
    "    error_initial[2] = initial_weight*(q[2,0] - start_state[2])\n",
    "    \n",
    "    error[-3] = error[-3] + final_weight*(q[0,-1] - end_state[0])\n",
    "    error[-2] = error[-2] + final_weight*(q[1,-1] - end_state[1])\n",
    "    error[-1] = error[-1] + final_weight*(q[2,-1] - end_state[2])\n",
    "    \n",
    "#     print('after constriants', error)\n",
    "#     print('--------------------------------------')\n",
    "    error_all = np.concatenate((error_initial, error), axis = None)\n",
    "    \n",
    "    \n",
    "    \n",
    "#     print(error)\n",
    "    \n",
    "#     error_all = np.concatenate((error, error_bound), axis = None)\n",
    "#     error_all = error + error_bound\n",
    "#     print(error_all)\n",
    "#     print('----------------------------------')\n",
    "\n",
    "    \n",
    "        \n",
    "        \n",
    "#     error[-6] = inital_weight*(q[0,0] - start_state[0])\n",
    "#     error[-5] = inital_weight*(q[1,0] - start_state[1])\n",
    "#     error[-4] = inital_weight*(q[2,0] - start_state[2])\n",
    "         \n",
    "#     error[-6] = inital_weight*(q[0,0] - 0)\n",
    "#     error[-5] = inital_weight*(q[1,0] - 0)\n",
    "#     error[-4] = inital_weight*(q[2,0] - 0)\n",
    "    \n",
    "#     error[-3] = final_weight*(q[0,-1] - end_state[0])\n",
    "#     error[-2] = final_weight*(q[1,-1] - end_state[1])\n",
    "#     error[-1] = final_weight*(q[2,-1] - end_state[2])\n",
    "#     print('error', error)\n",
    "#     print('------------------------------')\n",
    "    \n",
    "#     return np.sum(error_all*error_all)\n",
    "    return error_all"
   ]
  },
  {
   "cell_type": "code",
   "execution_count": 131,
   "metadata": {},
   "outputs": [],
   "source": [
    "###### constriants from paper\n",
    "\n",
    "# @jit(nopython=True, parallel=True)\n",
    "def system_dynamicstry(state_initials):\n",
    "    state_initials = state_initials.reshape((4,nt))\n",
    "    q = state_initials[0:3,:]\n",
    "    u = state_initials[-1,:]\n",
    "    u = u.reshape(1,nt)\n",
    "    m,n = u.shape\n",
    "    \n",
    "#     error = np.zeros( 3*(nt-1) )\n",
    "    error = np.zeros( 3*(nt) )\n",
    "    initial_weight, final_weight = 1,1\n",
    "\n",
    "    for i in range(nt-1):\n",
    "        error[3*i] = (q[0, i+1] - q[0,i]) - dt*cos(q[2,i])\n",
    "        error[3*i+1] = (q[1, i+1] - q[1,i]) - dt*sin(q[2,i])\n",
    "        error[3*i+2] = (q[2, i+1] - q[2,i]) - dt*u[:,i]\n",
    "    \n",
    "#     print('before constriants', error)\n",
    "        \n",
    "        \n",
    "    \n",
    "#     error_bound = np.zeros(3*(nt-1))\n",
    "#     error_bound = np.zeros(3*(nt))\n",
    "#     error_bound[0] =  initial_weight*(q[0,0] - start_state[0])\n",
    "#     error_bound[1] = initial_weight*(q[1,0] - start_state[1])\n",
    "#     error_bound[2] = initial_weight*(q[2,0] - start_state[2])\n",
    "    \n",
    "#     error_bound[-3] = final_weight*(q[0,-1] - end_state[0])\n",
    "#     error_bound[-2] = final_weight*(q[1,-1] - end_state[1])\n",
    "#     error_bound[-1] = final_weight*(q[2,-1] - end_state[2])\n",
    "    error_initial = np.zeros(3)\n",
    "#     error[0] = error[0] + initial_weight*(q[0,0] - start_state[0])\n",
    "#     error[1] = error[1] + initial_weight*(q[1,0] - start_state[1])\n",
    "#     error[2] = error[2] + initial_weight*(q[2,0] - start_state[2])\n",
    "    error_initial[0] = initial_weight*(q[0,0] - start_state[0])\n",
    "    error_initial[1] = initial_weight*(q[1,0] - start_state[1])\n",
    "    error_initial[2] = initial_weight*(q[2,0] - start_state[2])\n",
    "    \n",
    "    error[-3] = error[-3] + final_weight*(q[0,-1] - end_state[0])\n",
    "    error[-2] = error[-2] + final_weight*(q[1,-1] - end_state[1])\n",
    "    error[-1] = error[-1] + final_weight*(q[2,-1] - end_state[2])\n",
    "    \n",
    "#     print('after constriants', error)\n",
    "#     print('--------------------------------------')\n",
    "    error_all = np.concatenate((error_initial, error), axis = None)\n",
    "    \n",
    "    \n",
    "    \n",
    "#     print(error)\n",
    "    \n",
    "#     error_all = np.concatenate((error, error_bound), axis = None)\n",
    "#     error_all = error + error_bound\n",
    "#     print(error_all)\n",
    "#     print('----------------------------------')\n",
    "\n",
    "    \n",
    "        \n",
    "        \n",
    "#     error[-6] = inital_weight*(q[0,0] - start_state[0])\n",
    "#     error[-5] = inital_weight*(q[1,0] - start_state[1])\n",
    "#     error[-4] = inital_weight*(q[2,0] - start_state[2])\n",
    "         \n",
    "#     error[-6] = inital_weight*(q[0,0] - 0)\n",
    "#     error[-5] = inital_weight*(q[1,0] - 0)\n",
    "#     error[-4] = inital_weight*(q[2,0] - 0)\n",
    "    \n",
    "#     error[-3] = final_weight*(q[0,-1] - end_state[0])\n",
    "#     error[-2] = final_weight*(q[1,-1] - end_state[1])\n",
    "#     error[-1] = final_weight*(q[2,-1] - end_state[2])\n",
    "#     print('error', error)\n",
    "#     print('------------------------------')\n",
    "    \n",
    "#     return np.sum(error_all*error_all)\n",
    "    return error_all"
   ]
  },
  {
   "cell_type": "code",
   "execution_count": 132,
   "metadata": {},
   "outputs": [],
   "source": [
    "# @jit(nopython=True, parallel=True)\n",
    "def system_dynamics2(initial_guess):\n",
    "    initial_guess = initial_guess.reshape((4,nt))\n",
    "    \n",
    "    u_opt = initial_guess[-1,0:-1]\n",
    "    x_opt = initial_guess[0,:]\n",
    "    y_opt = initial_guess[1,:]\n",
    "    theta_opt = initial_guess[2,:]\n",
    "    \n",
    "    q1_opt = np.zeros(len(x_opt))\n",
    "    q2_opt = np.zeros(len(y_opt))\n",
    "    q3_opt = np.zeros(len(theta_opt))\n",
    "    \n",
    "    for i in range(nt-1):\n",
    "        if i == 0:\n",
    "            q1_opt[0], q2_opt[0], q3_opt[0] = 0, 0, 0\n",
    "                \n",
    "            \n",
    "        q1_opt[i+1] = q1_opt[i] +  dt*cos(q3_opt[i])\n",
    "        q2_opt[i+1] = q2_opt[i] +  dt*sin(q3_opt[i])\n",
    "        q3_opt[i+1] = q3_opt[i] + dt*u_opt[i]\n",
    "  \n",
    "    errorarray = [(q1_opt[-1] - end_state[0]), (q2_opt[-1] - end_state[1]), (q3_opt[-1] - end_state[2])]\n",
    "    \n",
    "    return errorarray"
   ]
  },
  {
   "cell_type": "code",
   "execution_count": 133,
   "metadata": {},
   "outputs": [],
   "source": [
    "def boundaries(state_initials):\n",
    "    state_initials = state_initials.reshape((4,nt))\n",
    "    q = state_initials[0:3,:]\n",
    "    initial_weight, final_weight = 1.0, 1.0\n",
    "    error_bound = np.zeros(6)\n",
    "    error_bound[0] =  initial_weight*(q[0,0] - start_state[0])\n",
    "    error_bound[1] = initial_weight*(q[1,0] - start_state[1])\n",
    "    error_bound[2] = initial_weight(q[2,0] - start_state[2])\n",
    "    \n",
    "    error_bound[3] = final_weight*(q[0,-1] - end_state[0])\n",
    "    error_bound[4] = final_weight*(q[1,-1] - end_state[1])\n",
    "    error_bound[5] = final_weight*(q[2,-1] - end_state[2])\n",
    "    \n",
    "    return error_bound\n",
    "    \n",
    "    \n",
    "    \n",
    "    "
   ]
  },
  {
   "cell_type": "code",
   "execution_count": 134,
   "metadata": {},
   "outputs": [
    {
     "name": "stdout",
     "output_type": "stream",
     "text": [
      "Optimization terminated successfully    (Exit mode 0)\n",
      "            Current function value: 96.13171242518185\n",
      "            Iterations: 13\n",
      "            Function evaluations: 379\n",
      "            Gradient evaluations: 13\n",
      "elasped_time:  0.07116913795471191\n"
     ]
    }
   ],
   "source": [
    "######################\n",
    "#optimazation\n",
    "from time import time\n",
    "\n",
    "con = ({'type': 'eq', 'fun': system_dynamics})\n",
    "\n",
    "tic = time()\n",
    "sol = minimize(cost_function, state, args=(nt, dt), method='slsqp', jac=None, hess=None, hessp=None, bounds=None, constraints=con, tol=1e-9, callback=None, options={'disp':True, 'maxiter': 3000})\n",
    "elasped_time = time() - tic\n",
    "print(\"elasped_time: \", elasped_time)"
   ]
  },
  {
   "cell_type": "code",
   "execution_count": 135,
   "metadata": {},
   "outputs": [
    {
     "name": "stdout",
     "output_type": "stream",
     "text": [
      "after optimization [ 0.00000000e+00  0.00000000e+00  0.00000000e+00  0.00000000e+00\n",
      "  0.00000000e+00 -5.77315973e-15  9.36750677e-16  3.30291350e-15\n",
      "  5.55111512e-17  2.02615702e-15  3.16413562e-15 -1.82076576e-14\n",
      "  6.38378239e-16 -1.66533454e-16 -1.35447209e-14 -6.15826834e-16\n",
      " -1.07136522e-14 -4.77395901e-15 -2.22044605e-16 -1.38777878e-16\n",
      " -2.88657986e-15  0.00000000e+00  1.63408197e-22  0.00000000e+00]\n"
     ]
    }
   ],
   "source": [
    "\n",
    "opt = sol.x.reshape((4,nt))\n",
    "asw_opt = system_dynamics(opt)\n",
    "print('after optimization', asw_opt)"
   ]
  },
  {
   "cell_type": "code",
   "execution_count": 136,
   "metadata": {},
   "outputs": [
    {
     "name": "stdout",
     "output_type": "stream",
     "text": [
      "(4, 7)\n"
     ]
    }
   ],
   "source": [
    "print(opt.shape)"
   ]
  },
  {
   "cell_type": "code",
   "execution_count": 137,
   "metadata": {},
   "outputs": [
    {
     "data": {
      "image/png": "[encoded data removed]",
      "text/plain": [
       "<Figure size 600x400 with 1 Axes>"
      ]
     },
     "metadata": {},
     "output_type": "display_data"
    }
   ],
   "source": [
    "plt.figure(dpi=100,facecolor='w')\n",
    "plt.plot(opt[0,:],opt[1,:], color = 'b')\n",
    "x_check = np.linspace(0,1/pi,nt)\n",
    "y_check = f(x_check)\n",
    "# print(np.median(x_check))\n",
    "\n",
    "plt.plot(x_sim, y_sim)\n",
    "plt.title('Optimized Trajectory')\n",
    "plt.gca().set_aspect('equal', adjustable='box')\n",
    "plt.plot(x_check, y_check, linestyle='--', color = 'r')\n",
    "plt.axvline(np.median(x_check), color='g', label='axvline - full height')\n",
    "plt.xlabel('x')\n",
    "plt.ylabel('y')\n",
    "plt.grid(True)\n",
    "plt.show()"
   ]
  },
  {
   "cell_type": "code",
   "execution_count": 138,
   "metadata": {},
   "outputs": [
    {
     "name": "stdout",
     "output_type": "stream",
     "text": [
      "1.7761461231996494\n",
      "0.1666666666666729\n",
      "0.16666666666666663\n"
     ]
    }
   ],
   "source": [
    "dx_check = x_check[1:] - x_check[0:-1]\n",
    "dy_check = y_check[1:] - y_check[0:-1]\n",
    "squ_dcheck = np.sum(dx_check**2 + dy_check**2)\n",
    "\n",
    "dx_sim = x_sim[1:] - x_sim[0:-1]\n",
    "dy_sim = y_sim[1:] - y_sim[0:-1]\n",
    "squ_dsim = np.sum(dx_sim**2 + dy_sim**2)\n",
    "\n",
    "xop = opt[0,:]\n",
    "yop = opt[1,:]\n",
    "dx_opt = xop[1:] - xop[0:-1]\n",
    "dy_opt = yop[1:] - yop[0:-1]\n",
    "squ_dopt = np.sum(dx_opt**2 + dy_opt**2)\n",
    "\n",
    "print(squ_dcheck)\n",
    "print(squ_dopt)\n",
    "print(squ_dsim)"
   ]
  },
  {
   "cell_type": "code",
   "execution_count": 139,
   "metadata": {},
   "outputs": [
    {
     "name": "stdout",
     "output_type": "stream",
     "text": [
      "x_optimized [0.         0.16666667 0.21685274 0.30217248 0.46386853 0.45506327\n",
      " 0.31830989]\n",
      "y_optimized [ 0.00000000e+00  0.00000000e+00  1.58931231e-01  3.02103570e-01\n",
      "  2.61703474e-01  9.52695673e-02 -3.33066744e-16]\n",
      "theta_optimized [ 0.          1.26493313  1.03337972 -0.24483946 -1.62365248 -2.53311696\n",
      " -1.49747189]\n",
      "u_optimized [ 7.58959877 -1.38932045 -7.66931507 -8.27287815 -5.45678683  6.21387039\n",
      "  0.        ]\n",
      "elastic energy at each point [4.80016746 0.16085094 4.90153281 5.70337607 2.48137687 3.2176821\n",
      " 0.        ]\n",
      "----------------------\n",
      "Observed from elastic energy at each point, not all point has its smallest elastic energy\n",
      "0.16666666666666666\n"
     ]
    }
   ],
   "source": [
    "##################\n",
    "############\n",
    "#######DEBUG\n",
    "print('x_optimized', opt[0,:])\n",
    "print('y_optimized', opt[1,:])\n",
    "print('theta_optimized', opt[2,:])\n",
    "print('u_optimized', opt[3,:])\n",
    "###check elastic energy at each point\n",
    "print('elastic energy at each point', 0.5*opt[-1,:]**2*dt)\n",
    "print('----------------------')\n",
    "print('Observed from elastic energy at each point, not all point has its smallest elastic energy')\n",
    "print(dt)"
   ]
  },
  {
   "cell_type": "code",
   "execution_count": 140,
   "metadata": {},
   "outputs": [
    {
     "data": {
      "image/png": "[encoded data removed]",
      "text/plain": [
       "<Figure size 432x288 with 1 Axes>"
      ]
     },
     "metadata": {
      "needs_background": "light"
     },
     "output_type": "display_data"
    },
    {
     "name": "stdout",
     "output_type": "stream",
     "text": [
      "0.16666666666666666\n"
     ]
    }
   ],
   "source": [
    "def check_trac(opt):\n",
    "#     u_opt = opt[-1,0:-1]\n",
    "    u_opt = opt[-1,:]\n",
    "    x_opt = opt[0,:]\n",
    "    y_opt = opt[1,:]\n",
    "    theta_opt = opt[2,:]\n",
    "    q1_opt = np.zeros(len(x_opt))\n",
    "    q2_opt = np.zeros(len(y_opt))\n",
    "    q3_opt = np.zeros(len(theta_opt))\n",
    "    for i in range(nt-1):\n",
    "        if i == 0:\n",
    "            q1_opt[0], q2_opt[0], q3_opt[0] = x_opt[0], y_opt[0], theta_opt[0]\n",
    "    \n",
    "\n",
    "        q1_opt[i+1] = q1_opt[i] +  dt*cos(q3_opt[i])\n",
    "        q2_opt[i+1] = q2_opt[i] +  dt*sin(q3_opt[i])\n",
    "        q3_opt[i+1] = q3_opt[i] + dt*u_opt[i]\n",
    "        \n",
    "\n",
    "        \n",
    "    return q1_opt, q2_opt, q3_opt, u_opt\n",
    "\n",
    "q1_opt, q2_opt, q3_opt, q4_opt = check_trac(opt)\n",
    "plt.plot(q1_opt, q2_opt, color = 'r')\n",
    "plt.plot(opt[0,:], opt[1,:], color = 'b')\n",
    "plt.title('Optimized Trajectory')\n",
    "plt.show()\n",
    "print(dt)\n",
    "    "
   ]
  },
  {
   "cell_type": "code",
   "execution_count": 141,
   "metadata": {},
   "outputs": [
    {
     "name": "stdout",
     "output_type": "stream",
     "text": [
      "[ 0.          1.26493313  1.03337972 -0.24483946 -1.62365248 -2.53311696\n",
      " -1.49747189]\n",
      "[ 7.58959877 -1.38932045 -7.66931507 -8.27287815 -5.45678683  6.21387039\n",
      "  0.        ]\n",
      "0.16666666666666666\n"
     ]
    }
   ],
   "source": [
    "print(q3_opt)\n",
    "print(q4_opt)\n",
    "print(dt)"
   ]
  },
  {
   "cell_type": "code",
   "execution_count": 142,
   "metadata": {},
   "outputs": [],
   "source": [
    "# q1_opt = q1_opt.reshape((1,nt))\n",
    "# q2_opt = q2_opt.reshape((1,nt))\n",
    "# q3_opt = q3_opt.reshape((1,nt))\n",
    "# u_opt = u_opt.reshape((1,nt))\n",
    "# qs_opt = np.vstack((q1_opt,q2_opt,q3_opt,u_opt))\n",
    "# num = system_dynamics(qs_opt)\n",
    "# print(num)"
   ]
  },
  {
   "cell_type": "code",
   "execution_count": 143,
   "metadata": {},
   "outputs": [
    {
     "name": "stdout",
     "output_type": "stream",
     "text": [
      "energy after optimization and before optimization 21.26498625404713 28.279492123420173\n"
     ]
    }
   ],
   "source": [
    "u_opt = opt[3,:]\n",
    "E_after = dt*0.5*np.sum(u_opt**2)\n",
    "print('energy after optimization and before optimization', E_after, E_before)"
   ]
  },
  {
   "cell_type": "code",
   "execution_count": 144,
   "metadata": {},
   "outputs": [],
   "source": [
    "###### left hand side qdot\n",
    "xdot = np.zeros((1,nt))\n",
    "for i in range(len(x) - 1):\n",
    "    xdot[i+1] = (x[i+1] - x[i])\n",
    "    \n",
    "ydot = np.zeros((1,nt))\n",
    "for i in range(len(y) - 1):\n",
    "    ydot[i+1] = (y[i+1] - y[i])\n",
    "    \n",
    "thetadot = np.zeros((1,nt))\n",
    "for i in range(len(theta) - 1):\n",
    "    thetadot[i+1] = theta[i+1] - theta[i]\n",
    "xdot[-1] = 0\n",
    "ydot[-1] = 0\n",
    "thetadot[-1] = 0"
   ]
  },
  {
   "cell_type": "code",
   "execution_count": 145,
   "metadata": {},
   "outputs": [],
   "source": [
    "##################\n",
    "#right hand side\n",
    "xdot_right = np.zeros((1,nt))\n",
    "for i in range(nt):\n",
    "    xdot_right[:,i] = cos(theta[:,i])\n",
    "\n",
    "ydot_right = np.zeros((1,nt))\n",
    "for i in range(nt-1):\n",
    "    ydot_right[:,i] = sin(theta[:,i])\n",
    "thetadot_right = u_opt\n"
   ]
  },
  {
   "cell_type": "code",
   "execution_count": 146,
   "metadata": {},
   "outputs": [],
   "source": [
    "# ##################\n",
    "# #compute the mean squared error\n",
    "# MSE_x = np.sum((np.square(np.subtract(xdot, dt*xdot_right))).mean())\n",
    "# MSE_y = np.sum((np.square(np.subtract(ydot, dt*ydot_right))).mean())\n",
    "# MSE_theta = np.sum((np.square(np.subtract(thetadot, dt*thetadot_right))).mean())\n",
    "# # MSE_x = np.sum((np.square(np.subtract(xdot, dt*xdot_right))))\n",
    "# # MSE_y = np.sum((np.square(np.subtract(ydot, dt*ydot_right))))\n",
    "# # MSE_theta = np.sum((np.square(np.subtract(thetadot, dt*thetadot_right))))"
   ]
  },
  {
   "cell_type": "code",
   "execution_count": 147,
   "metadata": {},
   "outputs": [],
   "source": [
    "# print(MSE_x)\n",
    "# print(MSE_y)\n",
    "# print(MSE_theta)\n",
    "# print(MSE_x + MSE_y + MSE_theta)"
   ]
  },
  {
   "cell_type": "code",
   "execution_count": null,
   "metadata": {},
   "outputs": [],
   "source": []
  },
  {
   "cell_type": "code",
   "execution_count": null,
   "metadata": {},
   "outputs": [],
   "source": []
  },
  {
   "cell_type": "code",
   "execution_count": null,
   "metadata": {},
   "outputs": [],
   "source": []
  }
 ],
 "metadata": {
  "kernelspec": {
   "display_name": "Python 3",
   "language": "python",
   "name": "python3"
  },
  "language_info": {
   "codemirror_mode": {
    "name": "ipython",
    "version": 3
   },
   "file_extension": ".py",
   "mimetype": "text/x-python",
   "name": "python",
   "nbconvert_exporter": "python",
   "pygments_lexer": "ipython3",
   "version": "3.8.10"
  }
 },
 "nbformat": 4,
 "nbformat_minor": 4
}
