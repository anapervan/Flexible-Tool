{
 "cells": [
  {
   "cell_type": "code",
   "execution_count": 1,
   "metadata": {},
   "outputs": [],
   "source": [
    "import pandas as pd\n",
    "import numpy as np\n",
    "from numpy import load\n",
    "import torch\n",
    "from torch import nn\n",
    "import torch.nn.functional as F\n",
    "from torch.utils.data import DataLoader\n",
    "import matplotlib.pyplot as plt\n",
    "from scipy.linalg import norm\n",
    "from PIL import Image\n",
    "from numpy import asarray\n",
    "import os"
   ]
  },
  {
   "cell_type": "code",
   "execution_count": 2,
   "metadata": {},
   "outputs": [],
   "source": [
    "### import data from csv (written in data_processing)\n",
    "q_array = load('q_array0.npy')\n",
    "a_array = load('a_array0.npy')\n",
    "N = 100\n",
    "\n",
    "### find number of trials\n",
    "data_trials = int(a_array.shape[0])\n"
   ]
  },
  {
   "cell_type": "code",
   "execution_count": 3,
   "metadata": {},
   "outputs": [
    {
     "name": "stdout",
     "output_type": "stream",
     "text": [
      "(100, 16)\n",
      "(100, 6)\n"
     ]
    }
   ],
   "source": [
    "\n",
    "q_array = np.resize(q_array,((N,16,100)))\n",
    "a_array = np.resize(a_array,((N,6)))\n",
    "q_array_end = np.zeros((N,16))\n",
    "for i in range(N):\n",
    "    q_array_end[i,:] = q_array[i,:,-1]\n",
    "print(q_array_end.shape)\n",
    "print(a_array.shape)"
   ]
  },
  {
   "cell_type": "code",
   "execution_count": 4,
   "metadata": {},
   "outputs": [],
   "source": [
    "\n",
    "## Open the image form working directory\n",
    "\n",
    "xy_array = np.zeros((N,288,432,4))\n",
    "xz_array = np.zeros((N,288,432,4))\n",
    "\n",
    "for i in range(N):\n",
    "    \n",
    "    img1 = Image.open('/home/bowen/Documents/Rod_manipulation/Flexible-Tool/png_data/'+str(i)+'_xy.png')\n",
    "    img2 = Image.open('/home/bowen/Documents/Rod_manipulation/Flexible-Tool/png_data/'+str(i)+'_xz.png')\n",
    "\n",
    "    xy_array[i,:,:,:] = asarray(img1)\n",
    "    xz_array[i,:,:,:] = asarray(img2)\n"
   ]
  },
  {
   "cell_type": "code",
   "execution_count": 5,
   "metadata": {},
   "outputs": [
    {
     "name": "stdout",
     "output_type": "stream",
     "text": [
      "(100, 288, 432, 1)\n",
      "(100, 288, 432, 1)\n",
      "(100, 2, 288, 432)\n"
     ]
    }
   ],
   "source": [
    "## load the image data into numpy arries and transfer RGBA channels into one channel by taking mean of RGB data.\n",
    "## May have function directly address this channel transfer (check later)\n",
    "for k in range(N):\n",
    "    xy_array[k,:,:,0] = np.mean(xy_array[k,:,:,0] + xy_array[k,:,:,1] + xy_array[k,:,:,2])\n",
    "    xz_array[k,:,:,0] = np.mean(xz_array[k,:,:,0] + xz_array[k,:,:,1] + xz_array[k,:,:,2])\n",
    "\n",
    "xy_array = np.resize(xy_array,(N,288,432,1))\n",
    "xz_array = np.resize(xz_array,(N,288,432,1))\n",
    "print(xy_array.shape)\n",
    "print(xz_array.shape)\n",
    "\n",
    "## put two image arraies into one single array with two channels and then reshape it because of the format of pytorch\n",
    "image_array = np.stack([xy_array,xz_array], axis = -1).squeeze()\n",
    "image_array = np.transpose(image_array,[0,3,1,2]) ## change the axis\n",
    "print(image_array.shape)\n"
   ]
  },
  {
   "cell_type": "code",
   "execution_count": 6,
   "metadata": {},
   "outputs": [],
   "source": [
    "# with np.printoptions(threshold=np.inf):\n",
    "    \n",
    "#     print(xy_array(0,288,432,1))"
   ]
  },
  {
   "cell_type": "code",
   "execution_count": 7,
   "metadata": {},
   "outputs": [
    {
     "name": "stdout",
     "output_type": "stream",
     "text": [
      "(20, 1, 16)\n",
      "80\n",
      "80\n"
     ]
    }
   ],
   "source": [
    "## split q_end(end configurations) and a_array into test and train set and put them into tensor and dataloader\n",
    "\n",
    "\n",
    "qend_train_x = (q_array_end[0:int(0.8*N),:]).astype(np.float32)\n",
    "\n",
    "qend_test_x = (q_array_end[int(0.8*N):N,:]).astype(np.float32) \n",
    "qend_test_x = np.expand_dims(qend_test_x, 1) # add dimension for neural net\n",
    "print(qend_test_x.shape)\n",
    "\n",
    "train_y = (a_array[0:int(0.8*N),:]).astype(np.float32)\n",
    "test_y = (a_array[int(0.8*N):N,:]).astype(np.float32)\n",
    "\n",
    "qx_test_tensor = torch.from_numpy(qend_test_x)\n",
    "y_test_tensor = torch.from_numpy(test_y)\n",
    "test_data_qtoa = [(qx_test_tensor[i],y_test_tensor[i]) for i in range(qx_test_tensor.shape[0])]\n",
    "\n",
    "qx_train_tensor = torch.from_numpy(qend_train_x)\n",
    "y_train_tensor = torch.from_numpy(train_y)\n",
    "\n",
    "print(qx_train_tensor.size(0))\n",
    "print(y_train_tensor.size(0))\n",
    "\n",
    "\n",
    "# q_train_dataset = torch.utils.data.TensorDataset(qx_train_tensor, y_train_tensor)\n",
    "# q_test_dataset = torch.utils.data.TensorDataset(qx_test_tensor, y_test_tensor)\n",
    "\n",
    "# q_train_loader = torch.utils.data.DataLoader(q_train_dataset, batch_size = 5, shuffle=True)\n",
    "# q_test_loader = torch.utils.data.DataLoader(q_test_dataset, batch_size = 5, shuffle=True)\n",
    "\n",
    "# for batch, (x, y) in enumerate(q_train_loader):\n",
    "#     print(\"batch\", batch)\n",
    "#     print(\"Shape of x: \", x.shape, x.dtype)\n",
    "#     print(\"Shape of y: \", y.shape, y.dtype)\n",
    "#     break"
   ]
  },
  {
   "cell_type": "code",
   "execution_count": 8,
   "metadata": {},
   "outputs": [
    {
     "name": "stdout",
     "output_type": "stream",
     "text": [
      "batch 0\n",
      "Shape of img:  torch.Size([5, 2, 288, 432]) torch.float32\n",
      "Shape of q:  torch.Size([5, 16]) torch.float32\n",
      "Shape of y:  torch.Size([5, 6]) torch.float32\n"
     ]
    }
   ],
   "source": [
    "## split q_end(end configurations) and a_array into test and train set and put them into tensor and dataloader\n",
    "image_train_x = (image_array[0:int(0.8*N),:,:,:]).astype(np.float32) \n",
    "image_test_x = (image_array[int(0.8*N):N,:,:,:]).astype(np.float32) \n",
    "image_test_x = np.expand_dims(image_test_x, 1) # add dimension for neural net\n",
    "\n",
    "\n",
    "imagex_test_tensor = torch.from_numpy(image_test_x)\n",
    "\n",
    "test_data = [(imagex_test_tensor[i],y_test_tensor[i]) for i in range(imagex_test_tensor.shape[0])]\n",
    "\n",
    "imagex_train_tensor = torch.from_numpy(image_train_x)\n",
    "\n",
    "\n",
    "\n",
    "# image_train_dataset = torch.utils.data.TensorDataset(imagex_train_tensor, y_train_tensor)\n",
    "# image_test_dataset = torch.utils.data.TensorDataset(imagex_test_tensor, y_test_tensor)\n",
    "\n",
    "# image_train_loader = torch.utils.data.DataLoader(image_train_dataset, batch_size = 5, shuffle=True)\n",
    "# image_test_loader = torch.utils.data.DataLoader(image_test_dataset, batch_size = 5, shuffle=True)\n",
    "\n",
    "# for batch, (x, y) in enumerate(image_train_loader):\n",
    "#     print(\"batch\", batch)\n",
    "#     print(\"Shape of x: \", x.shape, x.dtype)\n",
    "#     print(\"Shape of y: \", y.shape, y.dtype)\n",
    "#     break\n",
    "    \n",
    "    \n",
    "train_dataset = torch.utils.data.TensorDataset(imagex_train_tensor, qx_train_tensor, y_train_tensor)\n",
    "test_dataset = torch.utils.data.TensorDataset(imagex_test_tensor, qx_test_tensor, y_test_tensor)\n",
    "\n",
    "train_loader = torch.utils.data.DataLoader(train_dataset, batch_size = 5, shuffle=True)\n",
    "test_loader = torch.utils.data.DataLoader(test_dataset, batch_size = 5, shuffle=True)\n",
    "\n",
    "for batch, (img,q, y) in enumerate(train_loader):\n",
    "    print(\"batch\", batch)\n",
    "    print(\"Shape of img: \", img.shape, img.dtype)\n",
    "    print(\"Shape of q: \", q.shape, q.dtype)\n",
    "    print(\"Shape of y: \", y.shape, y.dtype)\n",
    "    break\n"
   ]
  },
  {
   "cell_type": "code",
   "execution_count": null,
   "metadata": {},
   "outputs": [],
   "source": []
  },
  {
   "cell_type": "code",
   "execution_count": null,
   "metadata": {},
   "outputs": [],
   "source": []
  },
  {
   "cell_type": "code",
   "execution_count": null,
   "metadata": {},
   "outputs": [],
   "source": []
  },
  {
   "cell_type": "code",
   "execution_count": 9,
   "metadata": {},
   "outputs": [
    {
     "name": "stdout",
     "output_type": "stream",
     "text": [
      "Net(\n",
      "  (pool): MaxPool2d(kernel_size=2, stride=2, padding=0, dilation=1, ceil_mode=False)\n",
      "  (conv1): Conv2d(2, 16, kernel_size=(3, 3), stride=(1, 1))\n",
      "  (conv2): Conv2d(16, 32, kernel_size=(3, 3), stride=(1, 1))\n",
      "  (conv3): Conv2d(32, 32, kernel_size=(3, 3), stride=(1, 1))\n",
      "  (conv4): Conv2d(32, 64, kernel_size=(3, 3), stride=(1, 1))\n",
      "  (conv5): Conv2d(64, 128, kernel_size=(3, 3), stride=(1, 1))\n",
      "  (linear1): Linear(in_features=9872, out_features=128, bias=True)\n",
      "  (linear2): Linear(in_features=128, out_features=32, bias=True)\n",
      "  (linear3): Linear(in_features=32, out_features=6, bias=True)\n",
      ")\n"
     ]
    }
   ],
   "source": [
    "class Net(nn.Module):\n",
    "    def __init__(self):\n",
    "        super(Net, self).__init__()\n",
    "\n",
    "        self.pool = nn.MaxPool2d(2)\n",
    "        self.relu = nn.functional.relu\n",
    "\n",
    "        self.conv1 = nn.Conv2d(in_channels=2, out_channels=16, kernel_size=3)\n",
    "        self.conv2 = nn.Conv2d(in_channels=16, out_channels=32, kernel_size=3)\n",
    "        self.conv3 = nn.Conv2d(in_channels=32, out_channels=32, kernel_size=3)\n",
    "        self.conv4 = nn.Conv2d(in_channels=32, out_channels=64, kernel_size=3)\n",
    "        self.conv5 = nn.Conv2d(in_channels=64, out_channels=128, kernel_size=3)\n",
    "\n",
    "        ## the input features should be the flatten version of the outchannel from the last conv2d layer\n",
    "        self.linear1 = nn.Linear(9872, 128)\n",
    "        self.linear2 = nn.Linear(128, 32)\n",
    "        self.linear3 = nn.Linear(32, 6)\n",
    "\n",
    "    def forward(self, img, q):\n",
    "#         print('in')\n",
    "#         img = self.conv1(img)\n",
    "#         print('out')\n",
    "#         img_out = self.relu(img)\n",
    "#         print('out2')\n",
    "#         img_out = self.pool(img_out)\n",
    "#         print('out3')\n",
    "        img_out = self.pool(self.relu(self.conv1(img)))\n",
    "        img_out = self.pool(self.relu(self.conv2(img_out)))\n",
    "        img_out = self.pool(self.relu(self.conv3(img_out)))\n",
    "        img_out = self.pool(self.relu(self.conv4(img_out)))\n",
    "        img_out = self.pool(self.relu(self.conv5(img_out)))\n",
    "\n",
    "        img_out = nn.Flatten()(img_out)\n",
    "        print(img_out.size())\n",
    "\n",
    "        concat = torch.cat([img_out, q], 1)\n",
    "        print(concat.size())\n",
    "        print('1')\n",
    "        output = self.relu(self.linear1(concat))\n",
    "        print('2')\n",
    "        output = self.relu(self.linear2(output))  ## should be 5*128 x 128*32 = 5*32\n",
    "        print('3')\n",
    "        output = nn.Sigmoid()(self.linear3(output))\n",
    "        print('4')\n",
    "\n",
    "        return output\n",
    "model = Net()\n",
    "print(model)"
   ]
  },
  {
   "cell_type": "code",
   "execution_count": 10,
   "metadata": {},
   "outputs": [],
   "source": [
    "### loss function and optimizer for training \n",
    "loss_fn = torch.nn.MSELoss()\n",
    "optimizer = torch.optim.Adam(model.parameters(), lr=1e-2)\n",
    "       "
   ]
  },
  {
   "cell_type": "code",
   "execution_count": 11,
   "metadata": {},
   "outputs": [],
   "source": [
    "### Functions for training\n",
    "def train(dataloader, model, loss_fn, optimizer,loss_list):\n",
    "    size = len(dataloader.dataset)\n",
    "    for batch, (img,q,y) in enumerate(dataloader):\n",
    "\n",
    "#         print(\"batch \", batch)\n",
    "#         print(\"Shape of x: \", x.shape)\n",
    "#         print(\"Shape of y: \", y.shape)\n",
    "    \n",
    "        # Compute prediction error\n",
    "        pred = model(img, q)\n",
    "#         print(\"pred\", pred)\n",
    "#         print(\"y\", y)\n",
    "        loss = loss_fn(pred, y)\n",
    "\n",
    "        # Backpropagation\n",
    "        optimizer.zero_grad()\n",
    "        loss.backward()\n",
    "        optimizer.step()\n",
    "\n",
    "        if batch % 10 == 0:\n",
    "            loss, current = loss.item(), batch * len(x)\n",
    "            loss_list.append(loss)\n",
    "        if batch % 20 == 0:\n",
    "            print(f\"loss: {loss:>7f}  [{current:>5d}/{size:>5d}]\")\n",
    "    return loss_list"
   ]
  },
  {
   "cell_type": "code",
   "execution_count": 12,
   "metadata": {},
   "outputs": [],
   "source": [
    "### function for testing the model\n",
    "def test(dataloader, model,test_loss_list):\n",
    "    size = len(dataloader.dataset)\n",
    "    model.eval()\n",
    "    test_loss, correct = 0, 0\n",
    "    with torch.no_grad():\n",
    "        for img,q, y in dataloader:\n",
    "            pred = model(img,q)\n",
    "            test_loss += loss_fn(pred, y)\n",
    "    print(f\"Test Error: Loss = {test_loss:>8f} \\n\")\n",
    "    test_loss_list.append(test_loss)\n",
    "    return test_loss_list"
   ]
  },
  {
   "cell_type": "code",
   "execution_count": 13,
   "metadata": {},
   "outputs": [
    {
     "name": "stdout",
     "output_type": "stream",
     "text": [
      "Epoch 1\n",
      "-------------------------------\n",
      "torch.Size([5, 9856])\n",
      "torch.Size([5, 9872])\n",
      "1\n",
      "2\n",
      "3\n",
      "4\n"
     ]
    },
    {
     "ename": "NameError",
     "evalue": "name 'x' is not defined",
     "output_type": "error",
     "traceback": [
      "\u001b[0;31m---------------------------------------------------------------------------\u001b[0m",
      "\u001b[0;31mNameError\u001b[0m                                 Traceback (most recent call last)",
      "\u001b[0;32m<ipython-input-13-357fe6efd580>\u001b[0m in \u001b[0;36m<module>\u001b[0;34m\u001b[0m\n\u001b[1;32m      5\u001b[0m \u001b[0;32mfor\u001b[0m \u001b[0mt\u001b[0m \u001b[0;32min\u001b[0m \u001b[0mrange\u001b[0m\u001b[0;34m(\u001b[0m\u001b[0mepochs\u001b[0m\u001b[0;34m)\u001b[0m\u001b[0;34m:\u001b[0m\u001b[0;34m\u001b[0m\u001b[0;34m\u001b[0m\u001b[0m\n\u001b[1;32m      6\u001b[0m     \u001b[0mprint\u001b[0m\u001b[0;34m(\u001b[0m\u001b[0;34mf\"Epoch {t+1}\\n-------------------------------\"\u001b[0m\u001b[0;34m)\u001b[0m\u001b[0;34m\u001b[0m\u001b[0;34m\u001b[0m\u001b[0m\n\u001b[0;32m----> 7\u001b[0;31m     \u001b[0mloss_list\u001b[0m \u001b[0;34m=\u001b[0m \u001b[0mtrain\u001b[0m\u001b[0;34m(\u001b[0m\u001b[0mtrain_loader\u001b[0m\u001b[0;34m,\u001b[0m \u001b[0mmodel\u001b[0m\u001b[0;34m,\u001b[0m \u001b[0mloss_fn\u001b[0m\u001b[0;34m,\u001b[0m \u001b[0moptimizer\u001b[0m\u001b[0;34m,\u001b[0m\u001b[0mloss_list\u001b[0m\u001b[0;34m)\u001b[0m\u001b[0;34m\u001b[0m\u001b[0;34m\u001b[0m\u001b[0m\n\u001b[0m\u001b[1;32m      8\u001b[0m     \u001b[0mtest_loss_list\u001b[0m \u001b[0;34m=\u001b[0m \u001b[0mtest\u001b[0m\u001b[0;34m(\u001b[0m\u001b[0mtest_loader\u001b[0m\u001b[0;34m,\u001b[0m \u001b[0mmodel\u001b[0m\u001b[0;34m,\u001b[0m \u001b[0mtest_loss_list\u001b[0m\u001b[0;34m)\u001b[0m\u001b[0;34m\u001b[0m\u001b[0;34m\u001b[0m\u001b[0m\n",
      "\u001b[0;32m<ipython-input-11-0074229b7327>\u001b[0m in \u001b[0;36mtrain\u001b[0;34m(dataloader, model, loss_fn, optimizer, loss_list)\u001b[0m\n\u001b[1;32m     20\u001b[0m \u001b[0;34m\u001b[0m\u001b[0m\n\u001b[1;32m     21\u001b[0m         \u001b[0;32mif\u001b[0m \u001b[0mbatch\u001b[0m \u001b[0;34m%\u001b[0m \u001b[0;36m10\u001b[0m \u001b[0;34m==\u001b[0m \u001b[0;36m0\u001b[0m\u001b[0;34m:\u001b[0m\u001b[0;34m\u001b[0m\u001b[0;34m\u001b[0m\u001b[0m\n\u001b[0;32m---> 22\u001b[0;31m             \u001b[0mloss\u001b[0m\u001b[0;34m,\u001b[0m \u001b[0mcurrent\u001b[0m \u001b[0;34m=\u001b[0m \u001b[0mloss\u001b[0m\u001b[0;34m.\u001b[0m\u001b[0mitem\u001b[0m\u001b[0;34m(\u001b[0m\u001b[0;34m)\u001b[0m\u001b[0;34m,\u001b[0m \u001b[0mbatch\u001b[0m \u001b[0;34m*\u001b[0m \u001b[0mlen\u001b[0m\u001b[0;34m(\u001b[0m\u001b[0mx\u001b[0m\u001b[0;34m)\u001b[0m\u001b[0;34m\u001b[0m\u001b[0;34m\u001b[0m\u001b[0m\n\u001b[0m\u001b[1;32m     23\u001b[0m             \u001b[0mloss_list\u001b[0m\u001b[0;34m.\u001b[0m\u001b[0mappend\u001b[0m\u001b[0;34m(\u001b[0m\u001b[0mloss\u001b[0m\u001b[0;34m)\u001b[0m\u001b[0;34m\u001b[0m\u001b[0;34m\u001b[0m\u001b[0m\n\u001b[1;32m     24\u001b[0m         \u001b[0;32mif\u001b[0m \u001b[0mbatch\u001b[0m \u001b[0;34m%\u001b[0m \u001b[0;36m20\u001b[0m \u001b[0;34m==\u001b[0m \u001b[0;36m0\u001b[0m\u001b[0;34m:\u001b[0m\u001b[0;34m\u001b[0m\u001b[0;34m\u001b[0m\u001b[0m\n",
      "\u001b[0;31mNameError\u001b[0m: name 'x' is not defined"
     ]
    }
   ],
   "source": [
    "### Train the model\n",
    "epochs = 50\n",
    "loss_list=[]\n",
    "test_loss_list=[]\n",
    "for t in range(epochs):\n",
    "    print(f\"Epoch {t+1}\\n-------------------------------\")\n",
    "    loss_list = train(train_loader, model, loss_fn, optimizer,loss_list)\n",
    "    test_loss_list = test(test_loader, model, test_loss_list)"
   ]
  },
  {
   "cell_type": "code",
   "execution_count": null,
   "metadata": {},
   "outputs": [],
   "source": []
  }
 ],
 "metadata": {
  "kernelspec": {
   "display_name": "Python 3",
   "language": "python",
   "name": "python3"
  },
  "language_info": {
   "codemirror_mode": {
    "name": "ipython",
    "version": 3
   },
   "file_extension": ".py",
   "mimetype": "text/x-python",
   "name": "python",
   "nbconvert_exporter": "python",
   "pygments_lexer": "ipython3",
   "version": "3.8.5"
  }
 },
 "nbformat": 4,
 "nbformat_minor": 4
}
