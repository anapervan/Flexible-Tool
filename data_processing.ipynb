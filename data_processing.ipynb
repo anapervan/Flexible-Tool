{
 "cells": [
  {
   "cell_type": "code",
   "execution_count": 1,
   "metadata": {},
   "outputs": [],
   "source": [
    "import pandas as pd\n",
    "import numpy as np"
   ]
  },
  {
   "cell_type": "code",
   "execution_count": 2,
   "metadata": {},
   "outputs": [],
   "source": [
    "\n",
    "# df = pd.read_csv('/home/bowen/Documents/Rod_manipulation/Flexible-Tool/data_2.csv', sep = \" \", names = ['name', 'value'])\n",
    "\n",
    "df = pd.read_csv('/home/ana/Documents/Code/Flexible-Tool/data_2.csv', sep = \" \", names = ['name', 'value'])\n"
   ]
  },
  {
   "cell_type": "code",
   "execution_count": 3,
   "metadata": {},
   "outputs": [
    {
     "data": {
      "text/html": [
       "<div>\n",
       "<style scoped>\n",
       "    .dataframe tbody tr th:only-of-type {\n",
       "        vertical-align: middle;\n",
       "    }\n",
       "\n",
       "    .dataframe tbody tr th {\n",
       "        vertical-align: top;\n",
       "    }\n",
       "\n",
       "    .dataframe thead th {\n",
       "        text-align: right;\n",
       "    }\n",
       "</style>\n",
       "<table border=\"1\" class=\"dataframe\">\n",
       "  <thead>\n",
       "    <tr style=\"text-align: right;\">\n",
       "      <th></th>\n",
       "      <th>name</th>\n",
       "      <th>value</th>\n",
       "    </tr>\n",
       "  </thead>\n",
       "  <tbody>\n",
       "    <tr>\n",
       "      <th>0</th>\n",
       "      <td>a</td>\n",
       "      <td>[0.6152792  0.57624728 0.97183159 0.30227324 0...</td>\n",
       "    </tr>\n",
       "    <tr>\n",
       "      <th>1</th>\n",
       "      <td>q</td>\n",
       "      <td>[[1.0, 0.99996588008, 0.99989695401, 0.9997925...</td>\n",
       "    </tr>\n",
       "    <tr>\n",
       "      <th>2</th>\n",
       "      <td>det_J</td>\n",
       "      <td>[0.0, 0.0, 0.0, 0.0, -2.53263925567196e-87, 2....</td>\n",
       "    </tr>\n",
       "    <tr>\n",
       "      <th>3</th>\n",
       "      <td>a</td>\n",
       "      <td>[0.42157321 0.04321076 0.28883865 0.53631535 0...</td>\n",
       "    </tr>\n",
       "    <tr>\n",
       "      <th>4</th>\n",
       "      <td>q</td>\n",
       "      <td>[[1.0, 0.99999984126, 0.99999948152, 0.9999988...</td>\n",
       "    </tr>\n",
       "    <tr>\n",
       "      <th>...</th>\n",
       "      <td>...</td>\n",
       "      <td>...</td>\n",
       "    </tr>\n",
       "    <tr>\n",
       "      <th>2995</th>\n",
       "      <td>q</td>\n",
       "      <td>[[1.0, 0.99991970255, 0.99975684995, 0.9995091...</td>\n",
       "    </tr>\n",
       "    <tr>\n",
       "      <th>2996</th>\n",
       "      <td>det_J</td>\n",
       "      <td>[0.0, 0.0, 0.0, 0.0, 1.4138451607417442e-86, -...</td>\n",
       "    </tr>\n",
       "    <tr>\n",
       "      <th>2997</th>\n",
       "      <td>a</td>\n",
       "      <td>[0.18525751 0.06743073 0.86360801 0.0865571  0...</td>\n",
       "    </tr>\n",
       "    <tr>\n",
       "      <th>2998</th>\n",
       "      <td>q</td>\n",
       "      <td>[[1.0, 0.99999969828, 0.9999992522, 0.99999881...</td>\n",
       "    </tr>\n",
       "    <tr>\n",
       "      <th>2999</th>\n",
       "      <td>det_J</td>\n",
       "      <td>[0.0, 0.0, 0.0, 0.0, 5.221002520645936e-85, 1....</td>\n",
       "    </tr>\n",
       "  </tbody>\n",
       "</table>\n",
       "<p>3000 rows × 2 columns</p>\n",
       "</div>"
      ],
      "text/plain": [
       "       name                                              value\n",
       "0         a  [0.6152792  0.57624728 0.97183159 0.30227324 0...\n",
       "1         q  [[1.0, 0.99996588008, 0.99989695401, 0.9997925...\n",
       "2     det_J  [0.0, 0.0, 0.0, 0.0, -2.53263925567196e-87, 2....\n",
       "3         a  [0.42157321 0.04321076 0.28883865 0.53631535 0...\n",
       "4         q  [[1.0, 0.99999984126, 0.99999948152, 0.9999988...\n",
       "...     ...                                                ...\n",
       "2995      q  [[1.0, 0.99991970255, 0.99975684995, 0.9995091...\n",
       "2996  det_J  [0.0, 0.0, 0.0, 0.0, 1.4138451607417442e-86, -...\n",
       "2997      a  [0.18525751 0.06743073 0.86360801 0.0865571  0...\n",
       "2998      q  [[1.0, 0.99999969828, 0.9999992522, 0.99999881...\n",
       "2999  det_J  [0.0, 0.0, 0.0, 0.0, 5.221002520645936e-85, 1....\n",
       "\n",
       "[3000 rows x 2 columns]"
      ]
     },
     "execution_count": 3,
     "metadata": {},
     "output_type": "execute_result"
    }
   ],
   "source": [
    "\n",
    "df.dropna(inplace = True)\n",
    "df\n"
   ]
  },
  {
   "cell_type": "code",
   "execution_count": 4,
   "metadata": {},
   "outputs": [],
   "source": [
    "df2 = pd.DataFrame()\n",
    "for r in range(len(df)):\n",
    "    if r % 3 == 0:\n",
    "        df0 = df.iloc[r,1:]\n",
    "        df0.value\n",
    "        df0 = df0.str.strip('[[[ ')\n",
    "        df0 = df0.str.strip('[]')\n",
    "        df0 = df0.value.split()\n",
    "        df0 = np.array(df0,dtype=float)\n",
    "        df2 = df2.append(pd.DataFrame(df0))\n",
    "\n",
    "\n"
   ]
  },
  {
   "cell_type": "code",
   "execution_count": 5,
   "metadata": {},
   "outputs": [
    {
     "data": {
      "text/plain": [
       "(6000, 1)"
      ]
     },
     "execution_count": 5,
     "metadata": {},
     "output_type": "execute_result"
    }
   ],
   "source": [
    "df2.head(12)\n",
    "df2.shape"
   ]
  },
  {
   "cell_type": "code",
   "execution_count": 6,
   "metadata": {},
   "outputs": [
    {
     "data": {
      "text/plain": [
       "(6000, 1)"
      ]
     },
     "execution_count": 6,
     "metadata": {},
     "output_type": "execute_result"
    }
   ],
   "source": [
    "df2.shape"
   ]
  },
  {
   "cell_type": "code",
   "execution_count": null,
   "metadata": {},
   "outputs": [],
   "source": [
    "df3 = pd.DataFrame()\n",
    "for i in range(len(df)):\n",
    "    if i % 3 == 1:\n",
    "        df1 = df.iloc[i,1:]\n",
    "        df1 = df1.value\n",
    "        df1 = df1.replace('[','')\n",
    "        df1 = df1.replace(']','')\n",
    "        df1 = df1.split(',')\n",
    "        df1 = np.array(df1,dtype=float)\n",
    "        df3 = df3.append(pd.DataFrame(df1))\n"
   ]
  },
  {
   "cell_type": "code",
   "execution_count": null,
   "metadata": {},
   "outputs": [],
   "source": [
    "df3.shape"
   ]
  },
  {
   "cell_type": "code",
   "execution_count": null,
   "metadata": {},
   "outputs": [],
   "source": [
    "type(df3)"
   ]
  },
  {
   "cell_type": "code",
   "execution_count": null,
   "metadata": {},
   "outputs": [],
   "source": [
    "q_array = df3.to_numpy()\n",
    "tmp = []\n",
    "for r in q_array:\n",
    "    tmp.append(np.transpose(np.asarray([r])).astype(np.float32))\n",
    "q_array = np.asarray(tmp.copy())\n",
    "type(q_array)"
   ]
  },
  {
   "cell_type": "code",
   "execution_count": null,
   "metadata": {},
   "outputs": [],
   "source": [
    "q_array = q_array.reshape(1000,16,100)\n",
    "q_array.shape"
   ]
  },
  {
   "cell_type": "code",
   "execution_count": null,
   "metadata": {},
   "outputs": [],
   "source": [
    "a_array = df2.to_numpy()\n",
    "tmp2 = []\n",
    "for i in a_array:\n",
    "    tmp2.append(np.transpose(np.asarray([i])).astype(np.float32))\n",
    "a_array = np.asarray(tmp2.copy())"
   ]
  },
  {
   "cell_type": "code",
   "execution_count": null,
   "metadata": {},
   "outputs": [],
   "source": [
    "a_array = a_array.reshape(1000,6)\n",
    "a_array.shape"
   ]
  },
  {
   "cell_type": "code",
   "execution_count": null,
   "metadata": {},
   "outputs": [],
   "source": [
    "import torch\n",
    "from torch import nn\n",
    "from torch.utils.data import DataLoader\n",
    "import matplotlib.pyplot as plt"
   ]
  },
  {
   "cell_type": "code",
   "execution_count": null,
   "metadata": {},
   "outputs": [],
   "source": [
    "train_x = (q_array[0:800,:,:]).astype(np.float32) # training data from csv/pandas (80% of existing data?)\n",
    "test_x = (q_array[800:1000,:,:]).astype(np.float32) # test data from csv/pandas (remaining ~20% of data)\n",
    "test_x = np.expand_dims(test_x, 1) # add dimension for neural net\n",
    "\n",
    "train_y = (a_array[0:800,:]).astype(np.float32)\n",
    "test_y = (a_array[800:1000,:]).astype(np.float32)\n",
    "\n",
    "x_test_tensor = torch.from_numpy(test_x)\n",
    "y_test_tensor = torch.from_numpy(test_y)\n",
    "test_data = [(x_test_tensor[i],y_test_tensor[i]) for i in range(x_test_tensor.shape[0])]\n",
    "\n",
    "# print(train_x.shape)\n",
    "# print(x_test_tensor.shape)\n",
    "# print(y_test_tensor.shape)\n",
    "# print(len(test_data))\n"
   ]
  },
  {
   "cell_type": "code",
   "execution_count": null,
   "metadata": {},
   "outputs": [],
   "source": [
    "x_train_tensor = torch.from_numpy(train_x)\n",
    "y_train_tensor = torch.from_numpy(train_y)\n",
    "\n",
    "# xtrain_tensor = torch.utils.data.TensorDataset(train_x)\n",
    "# ytrain_tensor = torch.utils.data.TensorDataset(train_y)\n",
    "\n",
    "train_dataset = torch.utils.data.TensorDataset(x_train_tensor, y_train_tensor)\n",
    "test_dataset = torch.utils.data.TensorDataset(x_test_tensor, y_test_tensor)\n",
    "\n",
    "train_loader = torch.utils.data.DataLoader(train_dataset, batch_size = 100,shuffle=True)\n",
    "test_loader = torch.utils.data.DataLoader(test_dataset, batch_size = 100, \n",
    "                                             shuffle=True)\n",
    "\n",
    "\n",
    "for batch, (x, y) in enumerate(train_loader):\n",
    "    print(\"batch\", batch)\n",
    "    print(\"Shape of x: \", x.shape, x.dtype)\n",
    "    print(\"Shape of y: \", y.shape, y.dtype)\n",
    "    break\n",
    "\n",
    "\n",
    "# trainset_x = torch.utils.data.DataLoader(train_x, batch_size=10, shuffle=True)\n",
    "# testset_x = torch.utils.data.DataLoader(test_x, batch_size=10, shuffle=True)\n",
    "# trainset_y = torch.utils.data.DataLoader(train_y, batch_size=10, shuffle=True)\n",
    "# testset_y = torch.utils.data.DataLoader(test_y, batch_size=10, shuffle=True)"
   ]
  },
  {
   "cell_type": "code",
   "execution_count": null,
   "metadata": {},
   "outputs": [],
   "source": [
    "import torch.nn.functional as F"
   ]
  },
  {
   "cell_type": "code",
   "execution_count": null,
   "metadata": {},
   "outputs": [],
   "source": [
    "class Net(nn.Module):\n",
    "    def __init__(self):\n",
    "        super(Net, self).__init__()\n",
    "        self.flatten = nn.Flatten()\n",
    "        self.linear_stack = nn.Sequential(\n",
    "#             nn.Conv1d(16, 50, 100, padding='same'), # in_channels, out_channels, kernel_size, stride, padding\n",
    "#             nn.Flatten(),\n",
    "            nn.Linear(16*100, 512),\n",
    "            nn.Linear(512, 512),\n",
    "            nn.Linear(512, 6)\n",
    "        )\n",
    "\n",
    "    def forward(self, x):\n",
    "        x = self.flatten(x)\n",
    "        output = self.linear_stack(x)\n",
    "        return output\n",
    "\n",
    "model = Net()\n",
    "print(model)"
   ]
  },
  {
   "cell_type": "code",
   "execution_count": null,
   "metadata": {},
   "outputs": [],
   "source": [
    "### loss function and optimizer for training \n",
    "loss_fn = torch.nn.MSELoss()\n",
    "optimizer = torch.optim.SGD(model.parameters(), lr=1e-3)\n",
    "\n",
    "### Functions for training and testing the model\n",
    "def train(dataloader, model, loss_fn, optimizer,loss_list):\n",
    "    size = len(dataloader.dataset)\n",
    "    for batch, (x,y) in enumerate(dataloader):\n",
    "\n",
    "#         print(\"batch \", batch)\n",
    "#         print(\"Shape of x: \", x.shape)\n",
    "#         print(\"Shape of y: \", y.shape)\n",
    "    \n",
    "        # Compute prediction error\n",
    "        pred = model(x)\n",
    "#         print(\"pred\", pred)\n",
    "#         print(\"y\", y)\n",
    "        loss = loss_fn(pred, y)\n",
    "\n",
    "        # Backpropagation\n",
    "        optimizer.zero_grad()\n",
    "        loss.backward()\n",
    "        optimizer.step()\n",
    "\n",
    "        if batch % 2 == 0:\n",
    "            loss, current = loss.item(), batch * len(x)\n",
    "            loss_list.append(loss)\n",
    "        if batch % 2 == 0:\n",
    "#             loss, current = loss.item(), batch * len(x)\n",
    "            print(f\"loss: {loss:>7f}  [{current:>5d}/{size:>5d}]\")\n",
    "    return loss_list\n",
    "\n",
    "def test(dataloader, model,test_loss_list):\n",
    "    size = len(dataloader.dataset)\n",
    "    model.eval()\n",
    "    test_loss, correct = 0, 0\n",
    "    with torch.no_grad():\n",
    "        for X, y in dataloader:\n",
    "            pred = model(X)\n",
    "#             print(\"pred\",pred.shape)\n",
    "#             print(\"y\",y.shape)\n",
    "            test_loss += loss_fn(pred, y)\n",
    "    print(f\"Test Error: Loss = {test_loss:>8f} \\n\")\n",
    "    test_loss_list.append(test_loss)\n",
    "    return test_loss_list"
   ]
  },
  {
   "cell_type": "code",
   "execution_count": null,
   "metadata": {},
   "outputs": [],
   "source": [
    "### Train the model\n",
    "epochs = 20\n",
    "loss_list=[]\n",
    "test_loss_list=[]\n",
    "for t in range(epochs):\n",
    "    print(f\"Epoch {t+1}\\n-------------------------------\")\n",
    "    loss_list = train(train_loader, model, loss_fn, optimizer,loss_list)\n",
    "    test_loss_list = test(test_loader, model, test_loss_list)\n",
    "    \n"
   ]
  },
  {
   "cell_type": "code",
   "execution_count": null,
   "metadata": {},
   "outputs": [],
   "source": [
    "plt.figure()\n",
    "plt.plot(loss_list)\n",
    "axes = plt.gca()\n",
    "plt.title('Training Loss')\n",
    "plt.xlabel('time')\n",
    "plt.ylabel('loss')\n",
    "axes.set_ylim([0,0.4])\n",
    "plt.show()\n",
    "\n",
    "plt.figure()\n",
    "plt.plot(test_loss_list)\n",
    "axes = plt.gca()\n",
    "plt.title('Test Loss')\n",
    "plt.xlabel('data')\n",
    "plt.ylabel('loss')\n",
    "axes.set_ylim([0,0.4])\n",
    "plt.show()"
   ]
  },
  {
   "cell_type": "code",
   "execution_count": null,
   "metadata": {},
   "outputs": [],
   "source": []
  }
 ],
 "metadata": {
  "kernelspec": {
   "display_name": "Python 3",
   "language": "python",
   "name": "python3"
  },
  "language_info": {
   "codemirror_mode": {
    "name": "ipython",
    "version": 3
   },
   "file_extension": ".py",
   "mimetype": "text/x-python",
   "name": "python",
   "nbconvert_exporter": "python",
   "pygments_lexer": "ipython3",
   "version": "3.8.5"
  }
 },
 "nbformat": 4,
 "nbformat_minor": 4
}
