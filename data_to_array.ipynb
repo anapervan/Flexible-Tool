{
 "cells": [
  {
   "cell_type": "code",
   "execution_count": 17,
   "metadata": {},
   "outputs": [],
   "source": [
    "import pandas as pd\n",
    "import numpy as np\n",
    "from numpy import save"
   ]
  },
  {
   "cell_type": "code",
   "execution_count": 2,
   "metadata": {},
   "outputs": [],
   "source": [
    "\n",
    "df = pd.read_csv('/home/ana/Documents/Code/Flexible-Tool/data_3.csv', sep = \" \", names = ['name', 'value'])\n",
    "\n",
    "# df = pd.read_csv('/home/bowen/Documents/Rod_manipulation/Flexible-Tool/data_2.csv', sep = \" \", names = ['name', 'value'])\n"
   ]
  },
  {
   "cell_type": "code",
   "execution_count": 3,
   "metadata": {
    "scrolled": true
   },
   "outputs": [
    {
     "data": {
      "text/html": [
       "<div>\n",
       "<style scoped>\n",
       "    .dataframe tbody tr th:only-of-type {\n",
       "        vertical-align: middle;\n",
       "    }\n",
       "\n",
       "    .dataframe tbody tr th {\n",
       "        vertical-align: top;\n",
       "    }\n",
       "\n",
       "    .dataframe thead th {\n",
       "        text-align: right;\n",
       "    }\n",
       "</style>\n",
       "<table border=\"1\" class=\"dataframe\">\n",
       "  <thead>\n",
       "    <tr style=\"text-align: right;\">\n",
       "      <th></th>\n",
       "      <th>name</th>\n",
       "      <th>value</th>\n",
       "    </tr>\n",
       "  </thead>\n",
       "  <tbody>\n",
       "    <tr>\n",
       "      <th>0</th>\n",
       "      <td>a</td>\n",
       "      <td>[0.33293958 0.8473282  0.15392336 0.29004178 0...</td>\n",
       "    </tr>\n",
       "    <tr>\n",
       "      <th>1</th>\n",
       "      <td>q</td>\n",
       "      <td>[[1.0, 0.99992538099, 0.99977404976, 0.9995438...</td>\n",
       "    </tr>\n",
       "    <tr>\n",
       "      <th>2</th>\n",
       "      <td>det_J</td>\n",
       "      <td>[0.0, 7.07220859050288e-126, -2.72470521632022...</td>\n",
       "    </tr>\n",
       "    <tr>\n",
       "      <th>3</th>\n",
       "      <td>a</td>\n",
       "      <td>[0.71559696 0.81872338 0.58718161 0.49673672 0...</td>\n",
       "    </tr>\n",
       "    <tr>\n",
       "      <th>4</th>\n",
       "      <td>q</td>\n",
       "      <td>[[1.0, 0.99993177485, 0.99979535014, 0.9995907...</td>\n",
       "    </tr>\n",
       "    <tr>\n",
       "      <th>...</th>\n",
       "      <td>...</td>\n",
       "      <td>...</td>\n",
       "    </tr>\n",
       "    <tr>\n",
       "      <th>61480</th>\n",
       "      <td>q</td>\n",
       "      <td>[[1.0, 0.99990860689, 0.99972379506, 0.9994435...</td>\n",
       "    </tr>\n",
       "    <tr>\n",
       "      <th>61481</th>\n",
       "      <td>det_J</td>\n",
       "      <td>[0.0, -4.682170536930135e-136, 2.2714666973773...</td>\n",
       "    </tr>\n",
       "    <tr>\n",
       "      <th>61482</th>\n",
       "      <td>a</td>\n",
       "      <td>[1.93747550e-01 7.99483797e-04 9.74408549e-02 ...</td>\n",
       "    </tr>\n",
       "    <tr>\n",
       "      <th>61483</th>\n",
       "      <td>q</td>\n",
       "      <td>[[1.0, 1.0000000179, 1.000000068, 1.0000001612...</td>\n",
       "    </tr>\n",
       "    <tr>\n",
       "      <th>61484</th>\n",
       "      <td>det_J</td>\n",
       "      <td>[0.0, -8.157192375291071e-132, -1.004244139525...</td>\n",
       "    </tr>\n",
       "  </tbody>\n",
       "</table>\n",
       "<p>61485 rows × 2 columns</p>\n",
       "</div>"
      ],
      "text/plain": [
       "        name                                              value\n",
       "0          a  [0.33293958 0.8473282  0.15392336 0.29004178 0...\n",
       "1          q  [[1.0, 0.99992538099, 0.99977404976, 0.9995438...\n",
       "2      det_J  [0.0, 7.07220859050288e-126, -2.72470521632022...\n",
       "3          a  [0.71559696 0.81872338 0.58718161 0.49673672 0...\n",
       "4          q  [[1.0, 0.99993177485, 0.99979535014, 0.9995907...\n",
       "...      ...                                                ...\n",
       "61480      q  [[1.0, 0.99990860689, 0.99972379506, 0.9994435...\n",
       "61481  det_J  [0.0, -4.682170536930135e-136, 2.2714666973773...\n",
       "61482      a  [1.93747550e-01 7.99483797e-04 9.74408549e-02 ...\n",
       "61483      q  [[1.0, 1.0000000179, 1.000000068, 1.0000001612...\n",
       "61484  det_J  [0.0, -8.157192375291071e-132, -1.004244139525...\n",
       "\n",
       "[61485 rows x 2 columns]"
      ]
     },
     "execution_count": 3,
     "metadata": {},
     "output_type": "execute_result"
    }
   ],
   "source": [
    "\n",
    "df.dropna(inplace = True)\n",
    "df\n"
   ]
  },
  {
   "cell_type": "code",
   "execution_count": 4,
   "metadata": {},
   "outputs": [],
   "source": [
    "num_rows = df.shape[0]\n",
    "data_trials = int(num_rows/3)\n"
   ]
  },
  {
   "cell_type": "code",
   "execution_count": 5,
   "metadata": {},
   "outputs": [],
   "source": [
    "df2 = pd.DataFrame()\n",
    "for r in range(len(df)):\n",
    "    if r % 3 == 0:\n",
    "        df0 = df.iloc[r,1:]\n",
    "        df0.value\n",
    "        df0 = df0.str.strip('[[[ ')\n",
    "        df0 = df0.str.strip('[]')\n",
    "        df0 = df0.value.split()\n",
    "        df0 = np.array(df0,dtype=float)\n",
    "        df2 = df2.append(pd.DataFrame(df0))"
   ]
  },
  {
   "cell_type": "code",
   "execution_count": 6,
   "metadata": {},
   "outputs": [
    {
     "data": {
      "text/plain": [
       "(122970, 1)"
      ]
     },
     "execution_count": 6,
     "metadata": {},
     "output_type": "execute_result"
    }
   ],
   "source": [
    "df2.head(12)\n",
    "df2.shape"
   ]
  },
  {
   "cell_type": "code",
   "execution_count": 7,
   "metadata": {},
   "outputs": [
    {
     "data": {
      "text/plain": [
       "(122970, 1)"
      ]
     },
     "execution_count": 7,
     "metadata": {},
     "output_type": "execute_result"
    }
   ],
   "source": [
    "df2.shape"
   ]
  },
  {
   "cell_type": "code",
   "execution_count": 8,
   "metadata": {},
   "outputs": [],
   "source": [
    "df3 = pd.DataFrame()\n",
    "for i in range(len(df)):\n",
    "    if i % 3 == 1:\n",
    "        df1 = df.iloc[i,1:]\n",
    "        df1 = df1.value\n",
    "        df1 = df1.replace('[','')\n",
    "        df1 = df1.replace(']','')\n",
    "        df1 = df1.split(',')\n",
    "        df1 = np.array(df1,dtype=float)\n",
    "        df3 = df3.append(pd.DataFrame(df1))\n"
   ]
  },
  {
   "cell_type": "code",
   "execution_count": 9,
   "metadata": {},
   "outputs": [
    {
     "data": {
      "text/plain": [
       "(32792000, 1)"
      ]
     },
     "execution_count": 9,
     "metadata": {},
     "output_type": "execute_result"
    }
   ],
   "source": [
    "df3.shape"
   ]
  },
  {
   "cell_type": "code",
   "execution_count": 14,
   "metadata": {},
   "outputs": [
    {
     "data": {
      "text/plain": [
       "(20495, 16, 100)"
      ]
     },
     "execution_count": 14,
     "metadata": {},
     "output_type": "execute_result"
    }
   ],
   "source": [
    "### format q_array\n",
    "q_array = df3.to_numpy()\n",
    "tmp = []\n",
    "for r in q_array:\n",
    "    tmp.append(np.transpose(np.asarray([r])).astype(np.float32))\n",
    "q_array = np.asarray(tmp.copy())\n",
    "type(q_array)\n",
    "\n",
    "q_array = q_array.reshape(data_trials,16,100)\n",
    "q_array.shape"
   ]
  },
  {
   "cell_type": "code",
   "execution_count": 15,
   "metadata": {},
   "outputs": [
    {
     "data": {
      "text/plain": [
       "(20495, 6)"
      ]
     },
     "execution_count": 15,
     "metadata": {},
     "output_type": "execute_result"
    }
   ],
   "source": [
    "### format a_array\n",
    "a_array = df2.to_numpy()\n",
    "tmp2 = []\n",
    "for i in a_array:\n",
    "    tmp2.append(np.transpose(np.asarray([i])).astype(np.float32))\n",
    "a_array = np.asarray(tmp2.copy())\n",
    "\n",
    "a_array = a_array.reshape(data_trials,6)\n",
    "a_array.shape"
   ]
  },
  {
   "cell_type": "code",
   "execution_count": 18,
   "metadata": {},
   "outputs": [],
   "source": [
    "### save formatted dataframes to csv\n",
    "# df3.to_csv(\"q_df_new.csv\")\n",
    "# df2.to_csv(\"a_df_new.csv\")\n",
    "\n",
    "### save numpy array to NPY file\n",
    "save('q_array0', q_array)\n",
    "save('a_array0', a_array)"
   ]
  },
  {
   "cell_type": "code",
   "execution_count": null,
   "metadata": {},
   "outputs": [],
   "source": []
  }
 ],
 "metadata": {
  "kernelspec": {
   "display_name": "Python 3",
   "language": "python",
   "name": "python3"
  },
  "language_info": {
   "codemirror_mode": {
    "name": "ipython",
    "version": 3
   },
   "file_extension": ".py",
   "mimetype": "text/x-python",
   "name": "python",
   "nbconvert_exporter": "python",
   "pygments_lexer": "ipython3",
   "version": "3.8.5"
  }
 },
 "nbformat": 4,
 "nbformat_minor": 4
}
